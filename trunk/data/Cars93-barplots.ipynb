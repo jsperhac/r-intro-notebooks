{
 "cells": [
  {
   "cell_type": "markdown",
   "metadata": {},
   "source": [
    "# Example R barplots with the Cars93 dataset"
   ]
  },
  {
   "cell_type": "markdown",
   "metadata": {},
   "source": [
    "What can barplots tell us? \n",
    "- a general graphical sense of the contents of one or two variables in our dataset\n",
    "- typically used on categorical data\n",
    "- a visual contingency table between two variables\n",
    "- assist in data exploration\n",
    "\n",
    "NOTE on fiddling with sizes of axis annotations:\n",
    "- to adjust x label magnification: cex.names=0.75\n",
    "- to adjust y label magnification: cex.axis=0.75\n",
    "\n",
    "The example barplots in this Notebook use the base R plotting routine, barplot()."
   ]
  },
  {
   "cell_type": "code",
   "execution_count": 29,
   "metadata": {},
   "outputs": [
    {
     "data": {
      "text/html": [
       "<ol class=list-inline>\n",
       "\t<li>'Manufacturer'</li>\n",
       "\t<li>'Model'</li>\n",
       "\t<li>'Type'</li>\n",
       "\t<li>'Min.Price'</li>\n",
       "\t<li>'Price'</li>\n",
       "\t<li>'Max.Price'</li>\n",
       "\t<li>'MPG.city'</li>\n",
       "\t<li>'MPG.highway'</li>\n",
       "\t<li>'AirBags'</li>\n",
       "\t<li>'DriveTrain'</li>\n",
       "\t<li>'Cylinders'</li>\n",
       "\t<li>'EngineSize'</li>\n",
       "\t<li>'Horsepower'</li>\n",
       "\t<li>'RPM'</li>\n",
       "\t<li>'Rev.per.mile'</li>\n",
       "\t<li>'Man.trans.avail'</li>\n",
       "\t<li>'Fuel.tank.capacity'</li>\n",
       "\t<li>'Passengers'</li>\n",
       "\t<li>'Length'</li>\n",
       "\t<li>'Wheelbase'</li>\n",
       "\t<li>'Width'</li>\n",
       "\t<li>'Turn.circle'</li>\n",
       "\t<li>'Rear.seat.room'</li>\n",
       "\t<li>'Luggage.room'</li>\n",
       "\t<li>'Weight'</li>\n",
       "\t<li>'Origin'</li>\n",
       "\t<li>'Make'</li>\n",
       "</ol>\n"
      ],
      "text/latex": [
       "\\begin{enumerate*}\n",
       "\\item 'Manufacturer'\n",
       "\\item 'Model'\n",
       "\\item 'Type'\n",
       "\\item 'Min.Price'\n",
       "\\item 'Price'\n",
       "\\item 'Max.Price'\n",
       "\\item 'MPG.city'\n",
       "\\item 'MPG.highway'\n",
       "\\item 'AirBags'\n",
       "\\item 'DriveTrain'\n",
       "\\item 'Cylinders'\n",
       "\\item 'EngineSize'\n",
       "\\item 'Horsepower'\n",
       "\\item 'RPM'\n",
       "\\item 'Rev.per.mile'\n",
       "\\item 'Man.trans.avail'\n",
       "\\item 'Fuel.tank.capacity'\n",
       "\\item 'Passengers'\n",
       "\\item 'Length'\n",
       "\\item 'Wheelbase'\n",
       "\\item 'Width'\n",
       "\\item 'Turn.circle'\n",
       "\\item 'Rear.seat.room'\n",
       "\\item 'Luggage.room'\n",
       "\\item 'Weight'\n",
       "\\item 'Origin'\n",
       "\\item 'Make'\n",
       "\\end{enumerate*}\n"
      ],
      "text/markdown": [
       "1. 'Manufacturer'\n",
       "2. 'Model'\n",
       "3. 'Type'\n",
       "4. 'Min.Price'\n",
       "5. 'Price'\n",
       "6. 'Max.Price'\n",
       "7. 'MPG.city'\n",
       "8. 'MPG.highway'\n",
       "9. 'AirBags'\n",
       "10. 'DriveTrain'\n",
       "11. 'Cylinders'\n",
       "12. 'EngineSize'\n",
       "13. 'Horsepower'\n",
       "14. 'RPM'\n",
       "15. 'Rev.per.mile'\n",
       "16. 'Man.trans.avail'\n",
       "17. 'Fuel.tank.capacity'\n",
       "18. 'Passengers'\n",
       "19. 'Length'\n",
       "20. 'Wheelbase'\n",
       "21. 'Width'\n",
       "22. 'Turn.circle'\n",
       "23. 'Rear.seat.room'\n",
       "24. 'Luggage.room'\n",
       "25. 'Weight'\n",
       "26. 'Origin'\n",
       "27. 'Make'\n",
       "\n",
       "\n"
      ],
      "text/plain": [
       " [1] \"Manufacturer\"       \"Model\"              \"Type\"              \n",
       " [4] \"Min.Price\"          \"Price\"              \"Max.Price\"         \n",
       " [7] \"MPG.city\"           \"MPG.highway\"        \"AirBags\"           \n",
       "[10] \"DriveTrain\"         \"Cylinders\"          \"EngineSize\"        \n",
       "[13] \"Horsepower\"         \"RPM\"                \"Rev.per.mile\"      \n",
       "[16] \"Man.trans.avail\"    \"Fuel.tank.capacity\" \"Passengers\"        \n",
       "[19] \"Length\"             \"Wheelbase\"          \"Width\"             \n",
       "[22] \"Turn.circle\"        \"Rear.seat.room\"     \"Luggage.room\"      \n",
       "[25] \"Weight\"             \"Origin\"             \"Make\"              "
      ]
     },
     "metadata": {},
     "output_type": "display_data"
    }
   ],
   "source": [
    "# First load the Cars93 dataset:\n",
    "library(MASS)\n",
    "cr = Cars93\n",
    "\n",
    "# list all the column names in the dataset:\n",
    "names(cr)"
   ]
  },
  {
   "cell_type": "code",
   "execution_count": 30,
   "metadata": {},
   "outputs": [
    {
     "data": {
      "text/html": [
       "<table>\n",
       "<thead><tr><th scope=col>Manufacturer</th><th scope=col>Model</th><th scope=col>Type</th><th scope=col>Min.Price</th><th scope=col>Price</th><th scope=col>Max.Price</th><th scope=col>MPG.city</th><th scope=col>MPG.highway</th><th scope=col>AirBags</th><th scope=col>DriveTrain</th></tr></thead>\n",
       "<tbody>\n",
       "\t<tr><td>Acura             </td><td>Integra           </td><td>Small             </td><td>12.9              </td><td>15.9              </td><td>18.8              </td><td>25                </td><td>31                </td><td>None              </td><td>Front             </td></tr>\n",
       "\t<tr><td><span style=white-space:pre-wrap>Acura   </span>  </td><td><span style=white-space:pre-wrap>Legend    </span></td><td>Midsize                                           </td><td>29.2                                              </td><td>33.9                                              </td><td>38.7                                              </td><td>18                                                </td><td>25                                                </td><td>Driver &amp; Passenger                            </td><td>Front                                             </td></tr>\n",
       "\t<tr><td>Audi              </td><td>90                </td><td>Compact           </td><td>25.9              </td><td>29.1              </td><td>32.3              </td><td>20                </td><td>26                </td><td>Driver only       </td><td>Front             </td></tr>\n",
       "\t<tr><td><span style=white-space:pre-wrap>Audi    </span>  </td><td><span style=white-space:pre-wrap>100       </span></td><td>Midsize                                           </td><td>30.8                                              </td><td>37.7                                              </td><td>44.6                                              </td><td>19                                                </td><td>26                                                </td><td>Driver &amp; Passenger                            </td><td>Front                                             </td></tr>\n",
       "\t<tr><td>BMW               </td><td>535i              </td><td>Midsize           </td><td>23.7              </td><td>30.0              </td><td>36.2              </td><td>22                </td><td>30                </td><td>Driver only       </td><td>Rear              </td></tr>\n",
       "\t<tr><td>Buick             </td><td>Century           </td><td>Midsize           </td><td>14.2              </td><td>15.7              </td><td>17.3              </td><td>22                </td><td>31                </td><td>Driver only       </td><td>Front             </td></tr>\n",
       "\t<tr><td>Buick             </td><td>LeSabre           </td><td>Large             </td><td>19.9              </td><td>20.8              </td><td>21.7              </td><td>19                </td><td>28                </td><td>Driver only       </td><td>Front             </td></tr>\n",
       "\t<tr><td>Buick             </td><td>Roadmaster        </td><td>Large             </td><td>22.6              </td><td>23.7              </td><td>24.9              </td><td>16                </td><td>25                </td><td>Driver only       </td><td>Rear              </td></tr>\n",
       "\t<tr><td>Buick             </td><td>Riviera           </td><td>Midsize           </td><td>26.3              </td><td>26.3              </td><td>26.3              </td><td>19                </td><td>27                </td><td>Driver only       </td><td>Front             </td></tr>\n",
       "\t<tr><td>Cadillac          </td><td>DeVille           </td><td>Large             </td><td>33.0              </td><td>34.7              </td><td>36.3              </td><td>16                </td><td>25                </td><td>Driver only       </td><td>Front             </td></tr>\n",
       "</tbody>\n",
       "</table>\n"
      ],
      "text/latex": [
       "\\begin{tabular}{r|llllllllll}\n",
       " Manufacturer & Model & Type & Min.Price & Price & Max.Price & MPG.city & MPG.highway & AirBags & DriveTrain\\\\\n",
       "\\hline\n",
       "\t Acura              & Integra            & Small              & 12.9               & 15.9               & 18.8               & 25                 & 31                 & None               & Front             \\\\\n",
       "\t Acura                & Legend               & Midsize              & 29.2                 & 33.9                 & 38.7                 & 18                   & 25                   & Driver \\& Passenger & Front               \\\\\n",
       "\t Audi               & 90                 & Compact            & 25.9               & 29.1               & 32.3               & 20                 & 26                 & Driver only        & Front             \\\\\n",
       "\t Audi                 & 100                  & Midsize              & 30.8                 & 37.7                 & 44.6                 & 19                   & 26                   & Driver \\& Passenger & Front               \\\\\n",
       "\t BMW                & 535i               & Midsize            & 23.7               & 30.0               & 36.2               & 22                 & 30                 & Driver only        & Rear              \\\\\n",
       "\t Buick              & Century            & Midsize            & 14.2               & 15.7               & 17.3               & 22                 & 31                 & Driver only        & Front             \\\\\n",
       "\t Buick              & LeSabre            & Large              & 19.9               & 20.8               & 21.7               & 19                 & 28                 & Driver only        & Front             \\\\\n",
       "\t Buick              & Roadmaster         & Large              & 22.6               & 23.7               & 24.9               & 16                 & 25                 & Driver only        & Rear              \\\\\n",
       "\t Buick              & Riviera            & Midsize            & 26.3               & 26.3               & 26.3               & 19                 & 27                 & Driver only        & Front             \\\\\n",
       "\t Cadillac           & DeVille            & Large              & 33.0               & 34.7               & 36.3               & 16                 & 25                 & Driver only        & Front             \\\\\n",
       "\\end{tabular}\n"
      ],
      "text/markdown": [
       "\n",
       "Manufacturer | Model | Type | Min.Price | Price | Max.Price | MPG.city | MPG.highway | AirBags | DriveTrain | \n",
       "|---|---|---|---|---|---|---|---|---|---|\n",
       "| Acura              | Integra            | Small              | 12.9               | 15.9               | 18.8               | 25                 | 31                 | None               | Front              | \n",
       "| Acura              | Legend             | Midsize            | 29.2               | 33.9               | 38.7               | 18                 | 25                 | Driver & Passenger | Front              | \n",
       "| Audi               | 90                 | Compact            | 25.9               | 29.1               | 32.3               | 20                 | 26                 | Driver only        | Front              | \n",
       "| Audi               | 100                | Midsize            | 30.8               | 37.7               | 44.6               | 19                 | 26                 | Driver & Passenger | Front              | \n",
       "| BMW                | 535i               | Midsize            | 23.7               | 30.0               | 36.2               | 22                 | 30                 | Driver only        | Rear               | \n",
       "| Buick              | Century            | Midsize            | 14.2               | 15.7               | 17.3               | 22                 | 31                 | Driver only        | Front              | \n",
       "| Buick              | LeSabre            | Large              | 19.9               | 20.8               | 21.7               | 19                 | 28                 | Driver only        | Front              | \n",
       "| Buick              | Roadmaster         | Large              | 22.6               | 23.7               | 24.9               | 16                 | 25                 | Driver only        | Rear               | \n",
       "| Buick              | Riviera            | Midsize            | 26.3               | 26.3               | 26.3               | 19                 | 27                 | Driver only        | Front              | \n",
       "| Cadillac           | DeVille            | Large              | 33.0               | 34.7               | 36.3               | 16                 | 25                 | Driver only        | Front              | \n",
       "\n",
       "\n"
      ],
      "text/plain": [
       "   Manufacturer Model      Type    Min.Price Price Max.Price MPG.city\n",
       "1  Acura        Integra    Small   12.9      15.9  18.8      25      \n",
       "2  Acura        Legend     Midsize 29.2      33.9  38.7      18      \n",
       "3  Audi         90         Compact 25.9      29.1  32.3      20      \n",
       "4  Audi         100        Midsize 30.8      37.7  44.6      19      \n",
       "5  BMW          535i       Midsize 23.7      30.0  36.2      22      \n",
       "6  Buick        Century    Midsize 14.2      15.7  17.3      22      \n",
       "7  Buick        LeSabre    Large   19.9      20.8  21.7      19      \n",
       "8  Buick        Roadmaster Large   22.6      23.7  24.9      16      \n",
       "9  Buick        Riviera    Midsize 26.3      26.3  26.3      19      \n",
       "10 Cadillac     DeVille    Large   33.0      34.7  36.3      16      \n",
       "   MPG.highway AirBags            DriveTrain\n",
       "1  31          None               Front     \n",
       "2  25          Driver & Passenger Front     \n",
       "3  26          Driver only        Front     \n",
       "4  26          Driver & Passenger Front     \n",
       "5  30          Driver only        Rear      \n",
       "6  31          Driver only        Front     \n",
       "7  28          Driver only        Front     \n",
       "8  25          Driver only        Rear      \n",
       "9  27          Driver only        Front     \n",
       "10 25          Driver only        Front     "
      ]
     },
     "metadata": {},
     "output_type": "display_data"
    }
   ],
   "source": [
    "# Let's take a peek at the dataset:\n",
    "cr[c(1:10),c(1:10)]"
   ]
  },
  {
   "cell_type": "markdown",
   "metadata": {},
   "source": [
    "In the cars dataset, how many cylinders does the typical car have? Compute a contingency table using table() to find out the counts in each category."
   ]
  },
  {
   "cell_type": "code",
   "execution_count": 31,
   "metadata": {},
   "outputs": [
    {
     "data": {
      "text/plain": [
       "\n",
       "     3      4      5      6      8 rotary \n",
       "     3     49      2     31      7      1 "
      ]
     },
     "metadata": {},
     "output_type": "display_data"
    }
   ],
   "source": [
    "table(cr$Cylinders)"
   ]
  },
  {
   "cell_type": "markdown",
   "metadata": {},
   "source": [
    "Use a barplot to visualize this contingency table of cylinder count for the cars. First, call R's table() function, then create a barplot with the output."
   ]
  },
  {
   "cell_type": "code",
   "execution_count": 32,
   "metadata": {},
   "outputs": [
    {
     "data": {
      "image/png": "[encoded data removed]",
      "text/plain": [
       "Plot with title “Cars93 Car Distribution by Number of Cylinders”"
      ]
     },
     "metadata": {},
     "output_type": "display_data"
    }
   ],
   "source": [
    "# View the car dataset by # cylinders, using a barplot\n",
    "\n",
    "# Create the contingency table\n",
    "counts=table(cr$Cylinders) \n",
    "title=\"Cars93 Car Distribution by Number of Cylinders\"\n",
    "\n",
    "# each x-axis category (here, each value for Cylinder count) gets its own color\n",
    "colors=rainbow(length(counts))\n",
    "\n",
    "# Draw the plot\n",
    "barplot(counts, \n",
    "    main=title,\n",
    "    xlab=\"number of cylinders\", \n",
    "    ylab=\"car count from Cars93 dataset\",\n",
    "    col=colors)"
   ]
  },
  {
   "cell_type": "markdown",
   "metadata": {},
   "source": [
    "## Cars data by Auto Type"
   ]
  },
  {
   "cell_type": "markdown",
   "metadata": {},
   "source": [
    "Create a barplot of the Cars data by Auto Type. Order the Type by Weight before creating the contingency table. Now the auto weights increase from left to right in the plot."
   ]
  },
  {
   "cell_type": "code",
   "execution_count": 33,
   "metadata": {
    "scrolled": false
   },
   "outputs": [
    {
     "data": {
      "image/png": "[encoded data removed]",
      "text/plain": [
       "Plot with title “Cars93 Car Distribution by Vehicle Type”"
      ]
     },
     "metadata": {},
     "output_type": "display_data"
    }
   ],
   "source": [
    "#--- Auto Type barplot ---\n",
    "\n",
    "# This command orders the Type alphabetically (not too meaningful):\n",
    "# counts=table(cr$Type) \n",
    "\n",
    "# Better: order the Type by Weight, then create the contingency table:\n",
    "type=reorder(cr$Type,cr$Weight)\n",
    "counts=table(type) \n",
    "\n",
    "# each x-axis category gets its own color\n",
    "colors=rainbow(length(counts))        \n",
    "title=\"Cars93 Car Distribution by Vehicle Type\"\n",
    "\n",
    "# draw the barplot\n",
    "barplot(counts, \n",
    "    main=title,\n",
    "    xlab=\"Vehicle Type\", \n",
    "    ylab=\"car count from Cars93 dataset\",\n",
    "    col=colors)        "
   ]
  },
  {
   "cell_type": "markdown",
   "metadata": {},
   "source": [
    "## Barplot on Auto Manufacturer"
   ]
  },
  {
   "cell_type": "markdown",
   "metadata": {},
   "source": [
    "Here, order the dataset by auto manufacturer (alphabetically)"
   ]
  },
  {
   "cell_type": "code",
   "execution_count": 34,
   "metadata": {},
   "outputs": [
    {
     "data": {
      "image/png": "[encoded data removed]",
      "text/plain": [
       "Plot with title “Cars93 Car Distribution by Vehicle Manufacturer”"
      ]
     },
     "metadata": {},
     "output_type": "display_data"
    }
   ],
   "source": [
    "#--- Auto Manufacturer barplot ---\n",
    "\n",
    "# contingency table will be alphabetical, if we don't order it first:\n",
    "counts=table(cr$Manufacturer) \n",
    "\n",
    "# colors for the manufacturer values:\n",
    "colors=rainbow(length(counts))      \n",
    "title=\"Cars93 Car Distribution by Vehicle Manufacturer\"  \n",
    "\n",
    "# draw the barplot\n",
    "barplot(counts, \n",
    "    main=title,\n",
    "    cex.names=0.7,   # adjust size of x axis labels: 70%\n",
    "    las=2,           # rotate x axis labels                \n",
    "    xlab=\"\",         # suppress name label for x axis\n",
    "    ylab=\"car count from Cars93 dataset\",\n",
    "    col=colors)    "
   ]
  },
  {
   "cell_type": "markdown",
   "metadata": {},
   "source": [
    "# Barplots using more than one variable"
   ]
  },
  {
   "cell_type": "markdown",
   "metadata": {},
   "source": [
    "Barplots made on a combination of variables can provide insights into the data. Reorder the data using a sensible measure, then prepare the contingency table on the orderd output."
   ]
  },
  {
   "cell_type": "markdown",
   "metadata": {},
   "source": [
    "## Barplot of Auto Type and Transmission"
   ]
  },
  {
   "cell_type": "markdown",
   "metadata": {},
   "source": [
    "This barplot of Cars orders the Car Types by weight first, then creates a contingency table with Transmission type and Vehicle type. The resulting plot shows classes of cars that increase in weight from left to right."
   ]
  },
  {
   "cell_type": "code",
   "execution_count": 35,
   "metadata": {},
   "outputs": [
    {
     "data": {
      "image/png": "[encoded data removed]",
      "text/plain": [
       "Plot with title “Cars93 Car Distribution by Vehicle Type and Manual Transmission Available”"
      ]
     },
     "metadata": {},
     "output_type": "display_data"
    }
   ],
   "source": [
    "# ---------- Barplots on a combination of variables --------------\n",
    "\n",
    "# As before, order the auto Type by Weight first:\n",
    "type=reorder(cr$Type,cr$Weight)\n",
    "\n",
    "# Create a contingency table on Transmission and Type (ordered by Weight):\n",
    "counts=table(cr$Man.trans.avail, type) \n",
    "title=\"Cars93 Car Distribution by Vehicle Type and Manual Transmission Available\"\n",
    "barplot(counts, \n",
    "    main=title,\n",
    "    xlab=\"Vehicle Type\", \n",
    "    ylab=\"car count from Cars93 dataset\",\n",
    "    col=c(\"red\",\"darkblue\"))\n",
    "    #legend=levels(cr$Man.trans.avail) # to specify legend in barplot call\n",
    "\n",
    "# Prepare the legend to show the values of the 2nd variable\n",
    "legend(x=\"topright\",                        # location for legend\n",
    "    title=\"Man. Trans. Available?\",      # title for legend\n",
    "    levels(cr$Man.trans.avail),          # names in legend\n",
    "    bty=\"n\",                             # box type to draw around legend\n",
    "    fill=c(\"red\",\"darkblue\"))            # colors for legend"
   ]
  },
  {
   "cell_type": "markdown",
   "metadata": {},
   "source": [
    "## Barplot of Max. Passenger Capacity and Vehicle Type"
   ]
  },
  {
   "cell_type": "code",
   "execution_count": 36,
   "metadata": {},
   "outputs": [
    {
     "data": {
      "image/png": "[encoded data removed]",
      "text/plain": [
       "Plot with title “Cars93 Car Distribution by Vehicle Type and Max. Passengers”"
      ]
     },
     "metadata": {},
     "output_type": "display_data"
    }
   ],
   "source": [
    "# --- Barplot on Passengers and Vehicle Type ---\n",
    "\n",
    "# Order Type by Weight first:\n",
    "type=reorder(cr$Type,cr$Weight)\n",
    "\n",
    "# Create the contingency table:\n",
    "counts=table(cr$Passengers, type) \n",
    "\n",
    "# Make the barplot\n",
    "title=\"Cars93 Car Distribution by Vehicle Type and Max. Passengers\"\n",
    "barplot(counts, \n",
    "    main=title,\n",
    "    xlab=\"Vehicle Type\", \n",
    "    ylab=\"car count from Cars93 dataset\",\n",
    "    col=rainbow(length(table(cr$Passengers))))\n",
    "    #legend=levels(factor(cr$Passengers))) \n",
    "\n",
    "# Prepare the legend to show the values of the 2nd variable:\n",
    "legend(x=\"topright\",                            # location for legend\n",
    "    title=\"Max # Passengers\",                   # title for legend\n",
    "    levels(factor(cr$Passengers)),              # names in legend\n",
    "    fill=rainbow(length(table(cr$Passengers)))) # colors for legend"
   ]
  }
 ],
 "metadata": {
  "kernelspec": {
   "display_name": "R",
   "language": "R",
   "name": "ir"
  },
  "language_info": {
   "codemirror_mode": "r",
   "file_extension": ".r",
   "mimetype": "text/x-r-source",
   "name": "R",
   "pygments_lexer": "r",
   "version": "3.4.3"
  }
 },
 "nbformat": 4,
 "nbformat_minor": 2
}
