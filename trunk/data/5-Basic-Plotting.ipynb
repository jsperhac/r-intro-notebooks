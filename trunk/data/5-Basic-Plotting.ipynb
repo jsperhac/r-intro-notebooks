{
 "cells": [
  {
   "cell_type": "markdown",
   "metadata": {},
   "source": [
    "# Interlude 5: Basic Plotting in R"
   ]
  },
  {
   "cell_type": "markdown",
   "metadata": {},
   "source": [
    "The first few exercises ask for preparation of simple plots from a data frame. Succeeding exercises use the basic plotting capabilities of R to examine a dataset's contents."
   ]
  },
  {
   "cell_type": "code",
   "execution_count": 2,
   "metadata": {},
   "outputs": [],
   "source": [
    "# 1. Snow cover data frame\n",
    "# \n",
    "# The following ten observations, taken during the years 1970-79, are on October snow cover for Eurasia.\n",
    "# (Snow cover is in millions of square kilometers):\n",
    "# \n",
    "#   year snow.cover\n",
    "#   ---- ----------\n",
    "#   1970 6.5\n",
    "#   1971 12.0\n",
    "#   1972 14.9\n",
    "#   1973 10.0\n",
    "#   1974 10.7\n",
    "#   1975 7.9\n",
    "#   1976 21.9\n",
    "#   1977 12.5\n",
    "#   1978 14.5\n",
    "#   1979 9.2\n",
    "# \n",
    "# a. Use the following data frame in R for the snow cover exercises:\n",
    "snowcover <- data.frame(year=c(1970:1979),\n",
    "                        snow.cover=c(6.5, 12.0, 14.9, 10.0, 10.7, 7.9, 21.9, \n",
    "                                     12.5, 14.5, 9.2)\n",
    "                        )\n",
    "\n",
    "# b. Which is the dependent variable, and which is the independent variable? Which axis should\n",
    "# each be plotted on?\n",
    "\n",
    "# c. Plot snow.cover versus year. Label your axes and the plot.\n",
    "\n",
    "\n",
    "# d. Use the hist() command to plot a histogram of the snow cover values. Label your axes and the plot. \n",
    "# Hint: use the histogram syntax: hist(x=data, xlab=\"x-label\", main=\"title\")\n",
    "\n",
    "\n",
    "# e. Find the R summary of the snow cover column. Then make a boxplot of the snow cover column.\n",
    "# The boxplot should just be a graphical representation of the statistical summary you printed.\n",
    "# Hint: use the summary() command, and boxplot syntax: boxplot(x=data, ylab=\"y-label\", main=\"title\")\n"
   ]
  },
  {
   "cell_type": "code",
   "execution_count": 3,
   "metadata": {},
   "outputs": [],
   "source": [
    "# 2. Mammals data frame\n",
    "#\n",
    "# The built-in data set mammals contains data on body weight versus brain weight for \n",
    "# 62 species of land mammals. Use the command ?mammals to find out about the dataset.\n",
    "# First, load the dataset from the MASS package, using the command:\n",
    "data(mammals, package=\"MASS\")\n",
    "\n",
    "# a. Use the cor() function to find the correlation coefficient for body and brain weights. \n",
    "# What does this coefficient suggest about the body and brain weights of land mammals?\n",
    "\n",
    "\n",
    "# b. Plot the data using the plot command, and label the plot and axes (include units). \n",
    "# You should be unsatisfied with this plot. Next, plot the logarithm (log) of each \n",
    "# variable; does that make a difference?\n",
    "\n",
    "\n",
    "# c. Overlay the log-log plot with a linear model. Are you satisfied with the fit?\n",
    "#     Hint: the linear model takes the form lm(y~x). To overplot, call abline() on the linear model.\n",
    "#     Don't forget that you have taken the log of the quantities on both axes.\n",
    "#\n",
    "# What do your log-log plots and the correlation results suggest about the data?"
   ]
  },
  {
   "cell_type": "markdown",
   "metadata": {},
   "source": [
    "## Exploring a dataset using basic plotting: Cars93"
   ]
  },
  {
   "cell_type": "code",
   "execution_count": 4,
   "metadata": {},
   "outputs": [],
   "source": [
    "# 3. Cars93 plots\n",
    "#\n",
    "# For these exercises, load the Cars93 dataset from the MASS package. You can adapt some of\n",
    "# the plot examples from class to create these plots.\n",
    "\n",
    "# load the data:\n",
    "data(Cars93, package=\"MASS\")\n",
    "cr=Cars93\n",
    "\n",
    "# a. Make a histogram and density plot of Engine Size (displacement), plotted on the same\n",
    "#   'page'. Label the axes on the histogram. Compare the histogram and density plots.\n",
    "\n",
    "# b. Make a boxplot of the Cars93 dataset drivetrain types with engine RPM. Label the axes and the plot.\n",
    "#   Use color to distinguish the categorical variable values.\n",
    "# \n",
    "#   Remind yourself:\n",
    "#   What do the ends of the boxes and the dotted lines mean? Are there any outliers? Can you find\n",
    "#   the cars represented by them?\n",
    "\n",
    "# c. For this exercise, don't worry about labels or nice presentation; concentrate on comparing the\n",
    "#    different plot types:\n",
    "#\n",
    "#     Create a simple histogram, a density plot, and a barplot of the Luggage Room variable from the Cars93 \n",
    "#     dataset. Which representation makes more sense to you? Would a pie chart be\n",
    "#     an effective way to represent this information about the Cars93 dataset?\n",
    "\n",
    "# d. Make a barplot of the Cars93 dataset by origin (USA/non USA) broken down by manual transmission\n",
    "#   availability.\n",
    "#   Don't forget to include a legend that indicates the color coding of the categorical variables,\n",
    "#   and label your axes and the plot appropriately.\n",
    "\n",
    "\n",
    "# e. Create a piechart of Vehicle Airbags from the Cars93 dataset. Display each category's percentage \n",
    "#   of the total dataset. Include a plot title."
   ]
  },
  {
   "cell_type": "markdown",
   "metadata": {},
   "source": [
    "## Exploring a dataset using basic plotting: breakfast cereal"
   ]
  },
  {
   "cell_type": "code",
   "execution_count": 5,
   "metadata": {},
   "outputs": [
    {
     "data": {
      "text/html": [
       "<ol class=list-inline>\n",
       "\t<li>'mfr'</li>\n",
       "\t<li>'calories'</li>\n",
       "\t<li>'protein'</li>\n",
       "\t<li>'fat'</li>\n",
       "\t<li>'sodium'</li>\n",
       "\t<li>'fibre'</li>\n",
       "\t<li>'carbo'</li>\n",
       "\t<li>'sugars'</li>\n",
       "\t<li>'shelf'</li>\n",
       "\t<li>'potassium'</li>\n",
       "\t<li>'vitamins'</li>\n",
       "</ol>\n"
      ],
      "text/latex": [
       "\\begin{enumerate*}\n",
       "\\item 'mfr'\n",
       "\\item 'calories'\n",
       "\\item 'protein'\n",
       "\\item 'fat'\n",
       "\\item 'sodium'\n",
       "\\item 'fibre'\n",
       "\\item 'carbo'\n",
       "\\item 'sugars'\n",
       "\\item 'shelf'\n",
       "\\item 'potassium'\n",
       "\\item 'vitamins'\n",
       "\\end{enumerate*}\n"
      ],
      "text/markdown": [
       "1. 'mfr'\n",
       "2. 'calories'\n",
       "3. 'protein'\n",
       "4. 'fat'\n",
       "5. 'sodium'\n",
       "6. 'fibre'\n",
       "7. 'carbo'\n",
       "8. 'sugars'\n",
       "9. 'shelf'\n",
       "10. 'potassium'\n",
       "11. 'vitamins'\n",
       "\n",
       "\n"
      ],
      "text/plain": [
       " [1] \"mfr\"       \"calories\"  \"protein\"   \"fat\"       \"sodium\"    \"fibre\"    \n",
       " [7] \"carbo\"     \"sugars\"    \"shelf\"     \"potassium\" \"vitamins\" "
      ]
     },
     "metadata": {},
     "output_type": "display_data"
    }
   ],
   "source": [
    "# 4. In the library MASS is a dataset called UScereal, which contains information about popular \n",
    "# breakfast cereals. Access the data set as follows:\n",
    "#   \n",
    "# data(UScereal, package=\"MASS\") # load the UScereal data frame\n",
    "# names(UScereal)                # to see the names of the columns\n",
    "# \n",
    "# Now, pick one of the following relationships to investigate, and comment on what you see. \n",
    "# You can use tables, barplots, scatterplots, descriptive statistics, etc. to do your investigation.\n",
    "# \n",
    "# a. The relationship between fat and vitamins\n",
    "# b. the relationship between carbohydrates and sugars\n",
    "# c. the relationship between fiber and manufacturer\n",
    "# d. the relationship between sodium and sugars\n",
    "# \n",
    "# Are there other relationships you can predict and investigate?\n",
    "\n",
    "data(UScereal, package=\"MASS\")\n",
    "names(UScereal)\n",
    "u = UScereal"
   ]
  }
 ],
 "metadata": {
  "kernelspec": {
   "display_name": "R",
   "language": "R",
   "name": "ir"
  },
  "language_info": {
   "codemirror_mode": "r",
   "file_extension": ".r",
   "mimetype": "text/x-r-source",
   "name": "R",
   "pygments_lexer": "r",
   "version": "3.4.3"
  }
 },
 "nbformat": 4,
 "nbformat_minor": 2
}
