{
 "cells": [
  {
   "cell_type": "markdown",
   "metadata": {},
   "source": [
    "# Interlude 4: Writing Functions in R"
   ]
  },
  {
   "cell_type": "markdown",
   "metadata": {},
   "source": [
    "The first couple of exercises are easy freebies; the exercises using apply() and by() really delve into R's functional/vectorial nature."
   ]
  },
  {
   "cell_type": "markdown",
   "metadata": {},
   "source": [
    "## Miles to km conversion"
   ]
  },
  {
   "cell_type": "code",
   "execution_count": 1,
   "metadata": {},
   "outputs": [],
   "source": [
    "# 2. Miles to Kilometers Conversion\n",
    "# \n",
    "# Write a simple function that accepts a numeric value, in miles, and \n",
    "# converts the value(s) to kilometers.\n",
    "#\n",
    "# Use the following information: \n",
    "#   kilometers = (8/5) * miles\n",
    "# \n",
    "# Test the function with the following vector, and print the results.\n",
    "miles = c(50, 100, 200, 275)\n",
    "\n",
    "# What is the type (class) of the output, given the input vector miles?\n",
    "\n",
    "# What is the type (class) of the output if you supply a single numeric value?\n",
    "# What about a single character value?"
   ]
  },
  {
   "cell_type": "markdown",
   "metadata": {},
   "source": [
    "## Average and standard deviation"
   ]
  },
  {
   "cell_type": "code",
   "execution_count": 2,
   "metadata": {},
   "outputs": [],
   "source": [
    "# Write a simple function that prints out the mean and standard deviation\n",
    "# of an input set of numbers. Test the result on the body and brain columns of\n",
    "# the dataset mammals (mammals$body in units of kg, mammals$brain in units of g).\n",
    "#\n",
    "# Hints: \n",
    "#   - The native R function mean() can be used for the mean.\n",
    "#   - The standard deviation is calculated as the square root (sqrt()) of the variance (var())\n",
    "#       of a set of numbers. Or, use native R function sd().\n",
    "#   - To output the values, build a vector or data frame from your\n",
    "#       calculated values, then return that:\n",
    "#         c(mean=avg, stdDev=sd)\n",
    "#\n",
    "library(MASS) # loads the dataset called \"mammals\""
   ]
  },
  {
   "cell_type": "markdown",
   "metadata": {},
   "source": [
    "## Using apply() functions"
   ]
  },
  {
   "cell_type": "markdown",
   "metadata": {},
   "source": [
    "The apply() family of functions can be used to call some other function multiple times, with several \n",
    "different arguments. In this exercise we will explore the use of the sapply() function. We will use \n",
    "it to call several R functions on a predefined dataset, and then look at the output.\n",
    "\n",
    "You can use the apply() family on a native R function, on a function you wrote yourself."
   ]
  },
  {
   "cell_type": "code",
   "execution_count": 4,
   "metadata": {},
   "outputs": [],
   "source": [
    "# a. First, create the sample dataset of US car data by running the following:\n",
    "data(car.test.frame, package = \"rpart\")\n",
    "US = car.test.frame[car.test.frame$Country==\"USA\", ]    # Only use American Cars\n",
    "US = droplevels(US[ ,c(1,4,6:8)])                       # Only use specified columns\n",
    "\n",
    "# b. Call head() or str() on the US dataset, to get a sense of the contents.\n",
    "# How many columns does it have? What are their types?\n",
    "\n",
    "# c. Now, call the sapply function on the US dataset, to apply the mean function to it.\n",
    "\n",
    "# Hint: Use the syntax sapply(US, mean). Do you agree that this is equivalent to running\n",
    "# mean(US$Price), followed by mean(US$Mileage), followed by the mean function of each other\n",
    "# column in the US data frame? Can you see the use of the apply() family?\n",
    "\n",
    "# d. Call the sapply function on the US dataset and the range function."
   ]
  },
  {
   "cell_type": "markdown",
   "metadata": {},
   "source": [
    "## Using the by() function"
   ]
  },
  {
   "cell_type": "markdown",
   "metadata": {},
   "source": [
    "The apply() family of functions can be used to call some other function multiple times, after first grouping on the data that will be operated on.\n",
    "\n",
    "In this exercise we will explore the use of the by() function. We will use it to call several R functions on a predefined dataset, and then look at the output.\n",
    "\n",
    "As with the other apply() functions, you can use the by() family on a native R function, or on a function you wrote yourself."
   ]
  },
  {
   "cell_type": "markdown",
   "metadata": {},
   "source": [
    "### Iris dataset with by()"
   ]
  },
  {
   "cell_type": "code",
   "execution_count": null,
   "metadata": {},
   "outputs": [],
   "source": [
    "# First, show yourself what by() does. For this, we'll use the iris dataset. \n",
    "attach(iris)\n",
    "\n",
    "# Use the mean() function to find the overall mean of the iris Petal.Width column. \n",
    "# Hint: use a call like: mean(iris[,\"Petal.Width\"])\n",
    "\n",
    "# Then, use the by() function to find the mean of the Petal.Width column for each \n",
    "# iris Species.  Hint: use a call like: by(iris[,\"Petal.Width\"], Species, mean)\n",
    "\n",
    "# Using the output of the by() call, find the mean of the means for all species.  \n",
    "# It should match the overall mean you computed."
   ]
  },
  {
   "cell_type": "markdown",
   "metadata": {},
   "source": [
    "### Cars93 dataset with by()"
   ]
  },
  {
   "cell_type": "code",
   "execution_count": null,
   "metadata": {},
   "outputs": [],
   "source": [
    "# a. Now, create a sample dataset of car data by running the following:\n",
    "d = droplevels(Cars93[,c(3,5,7,8,12)] )                # Only use specified columns\n",
    "\n",
    "# b. Call head(), View(), or str() on the d dataset, to get a sense of the contents.\n",
    "# How many columns does it have? What are their types?\n",
    "\n",
    "# To find out more about the columns in the dataset, type:\n",
    "?Cars93\n",
    "\n",
    "# Remember that the first argument to by() specifies the columns to operate on; the second \n",
    "# specifies the column whose values form groups for the data; and the last specifies the\n",
    "# function. Use R help for further information (?by)\n",
    "\n",
    "# c. Now, call the by() function on the d dataset, to apply the summary function to the price\n",
    "# column while grouping on auto Type. Which auto type has the highest median price?\n",
    "# What about the lowest median price? (Note that price is reported in thousands of dollars). \n",
    "\n",
    "# Use by() to determine how many cars in our dataset are found for each Type. \n",
    "\n",
    "# d. Call the by() function on the d dataset, to apply the colMeans function to the \n",
    "# MPG and engine size columns, while grouping on auto Type. What does colMeans do?\n",
    "# What happens if you try to use the mean() function with by()?\n",
    "\n",
    "# e. Call the by() function on the d dataset, to determine the standard deviation (sd) of \n",
    "# the engine size column, while grouping on auto Type. \n",
    "\n",
    "# Which auto type has the largest variation (standard deviation) about the engine size mean? \n",
    "# Which type has the smallest and largest mean engine size? Any surprises there? \n",
    "# Does the by() function make it easy to answer a question like this one?\n"
   ]
  },
  {
   "cell_type": "code",
   "execution_count": null,
   "metadata": {},
   "outputs": [],
   "source": []
  }
 ],
 "metadata": {
  "kernelspec": {
   "display_name": "R",
   "language": "R",
   "name": "ir"
  },
  "language_info": {
   "codemirror_mode": "r",
   "file_extension": ".r",
   "mimetype": "text/x-r-source",
   "name": "R",
   "pygments_lexer": "r",
   "version": "3.4.3"
  }
 },
 "nbformat": 4,
 "nbformat_minor": 2
}
