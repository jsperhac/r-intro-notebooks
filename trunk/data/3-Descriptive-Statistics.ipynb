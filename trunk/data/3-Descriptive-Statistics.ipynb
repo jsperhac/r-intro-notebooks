{
 "cells": [
  {
   "cell_type": "markdown",
   "metadata": {},
   "source": [
    "# Interlude 3: Descriptive Statistics with R"
   ]
  },
  {
   "cell_type": "code",
   "execution_count": 2,
   "metadata": {},
   "outputs": [],
   "source": [
    "# ---- Statistical functions summary: -----\n",
    "#\n",
    "# mean(x)       # average or mean value, of x\n",
    "# median(x)     # median, or middle value, of x\n",
    "# range(x)      # return minimum and maximum value of x\n",
    "#   min(x)\n",
    "#   max(x)\n",
    "# var(x)        # variance of x\n",
    "# sd(x)         # standard deviation, or square root of variance of x\n",
    "# summary(x)    # R statistical summary of x"
   ]
  },
  {
   "cell_type": "markdown",
   "metadata": {},
   "source": [
    "## Using R's table(), levels(), and unique()"
   ]
  },
  {
   "cell_type": "code",
   "execution_count": 3,
   "metadata": {},
   "outputs": [],
   "source": [
    "# 1. R's table, levels, and unique functions\n",
    "\n",
    "# We often need to find out about the possible values of columns in a data frame. Depending on the\n",
    "# datatype of the column, we have different functions to use: \n",
    "#   - levels(), for categorical (factor) data\n",
    "#   - unique() for numeric data\n",
    "\n",
    "# Load the Cars93 dataset from the MASS library:\n",
    "library(MASS)\n",
    "car = Cars93\n",
    "\n",
    "# a. Print the structure of the Cars93 data frame. \n",
    "# What are the levels of car Type? of DriveTrain?\n",
    "\n",
    "# b. Use the table() function to: \n",
    "# Make a contingency table of car Type. Now make a contingency table of DriveTrain.\n",
    "# Display your tables. What do they tell you? How does table() differ from levels()?\n",
    "\n",
    "# c. Make a contingency table that combines both car Type and DriveTrain. \n",
    "# Display your table, and explain the result.\n",
    "\n",
    "# d. Find the RPM column in the cars data frame. Display it.\n",
    "# How many values are found in the RPM column?\n",
    "\n",
    "# e. Now run the unique() function on the cars RPM column.\n",
    "# Display the result. How many values are in the result?\n",
    "#\n",
    "# What can you infer unique() does? Run ?unique to find out more.\n",
    "\n",
    "# f. What happens if you try to run levels() on the RPM data? Why?\n",
    "# What happens if you run unique() on the car Type data?\n"
   ]
  },
  {
   "cell_type": "markdown",
   "metadata": {},
   "source": [
    "## Characterizing mileage"
   ]
  },
  {
   "cell_type": "code",
   "execution_count": 4,
   "metadata": {},
   "outputs": [],
   "source": [
    "# 2. Suppose you keep track of your mileage each time you fill up your car's gas tank. \n",
    "# At your last 8 fill-ups, the mileage was as follows:\n",
    "miles =  c(65311, 65624, 65908, 66219, 66499, 66821, 67145, 67447)\n",
    "\n",
    "# a. Use the function diff() on the miles data and assign the result to a variable called x. \n",
    "# What is the type of the result? What does it mean?\n",
    "\n",
    "# b. Use the function length() to find the lengths of the miles and x vectors. \n",
    "\n",
    "# c. Use R functions to find the maximum and minimum number of miles between fill-ups, the \n",
    "# average number of miles between fill-ups, the standard deviation, and a statistical summary.\n",
    "\n",
    "# d. Run the following command to create a boxplot of the miles between fill-ups. The bottom of the box \n",
    "# is Q1, the top of the box is Q3, the line in the center of the box is the median, and the \"whiskers\" \n",
    "# extend to the min and max:\n",
    "\n",
    "#boxplot(x, ylab=\"Distance between fill-ups, in miles\", main=\"Milage at fill-ups\")"
   ]
  },
  {
   "cell_type": "markdown",
   "metadata": {},
   "source": [
    "## Commute times"
   ]
  },
  {
   "cell_type": "code",
   "execution_count": 5,
   "metadata": {},
   "outputs": [],
   "source": [
    "# 3. You track your commute times for two weeks (10 days) and you find the following times in minutes:\n",
    "#       17 16 20 24 22 15 21 15 17 22\n",
    "#\n",
    "# a. Enter this data into a vector called commute. Use R functions to find the longest and shortest  \n",
    "# commute times, the average, and a statistical summary.\n",
    "\n",
    "# b. Run the following command to create a boxplot of the commute times. The bottom of the box \n",
    "# is Q1, the top of the box is Q3, the line in the center of the box is the median, and the \"whiskers\" \n",
    "# extend to the min and max:\n",
    "\n",
    "# boxplot(commute, ylab=\"Commute time/minutes\", main=\"Original commute data\")\n"
   ]
  },
  {
   "cell_type": "code",
   "execution_count": 6,
   "metadata": {},
   "outputs": [],
   "source": [
    "# c. Suppose the 24 was a mistake; it should have been 18. How can you fix this? Do so, and then find \n",
    "# the new average. Hint: Index into the vector, then use an assignment statement to fix this mistake.\n",
    "\n",
    "# d. Now that you have fixed the datapoint, re-run the boxplot and the summary command. \n",
    "\n",
    "# e. How many times was your commute 20 minutes or more? To answer this you can try:\n",
    "#   sum( commute >= 20 )\n",
    "# How does this work?\n",
    "\n",
    "# f. What percent of your commutes are less than 17 minutes? How can you answer this with R?"
   ]
  },
  {
   "cell_type": "markdown",
   "metadata": {},
   "source": [
    "## Phone bill"
   ]
  },
  {
   "cell_type": "code",
   "execution_count": 7,
   "metadata": {},
   "outputs": [],
   "source": [
    "# 4. Your cell phone bill varies from month to month. Suppose that your bills had the following monthly \n",
    "# amounts last year:\n",
    "# 46 33 39 37 46 30 48 32 49 35 30 48\n",
    "\n",
    "# a. Enter this data into a variable called bill. \n",
    "\n",
    "\n",
    "# b. Find the total amount, and the average amount, that you spent last year on cell phone bills. \n",
    "\n",
    "\n",
    "# c. What is the smallest amount you spent on your phone bill last year? What is the largest? Assuming \n",
    "# the months are entered in order, which months were these? Hint: use the which() function to find the \n",
    "# months.\n",
    "\n",
    "\n",
    "# d. Uncomment and run the following calculation, and explain its result:\n",
    "# range(bill)[2] - range(bill)[1]\n",
    "\n",
    "# e. How many months was the amount greater than $40? What percentage was this?"
   ]
  },
  {
   "cell_type": "markdown",
   "metadata": {},
   "source": [
    "## Survey dataset statistics"
   ]
  },
  {
   "cell_type": "code",
   "execution_count": 8,
   "metadata": {},
   "outputs": [],
   "source": [
    "# 5. Import the excerpted survey data frame, s,  by running the following:\n",
    "library(MASS)\n",
    "\n",
    "s = data.frame(Gender=survey$Sex, \n",
    "        Hand=survey$W.Hnd, \n",
    "        Height=survey$Height, \n",
    "        HtUnit=survey$M.I, \n",
    "        Age=survey$Age)\n",
    "\n",
    "# which(), range(), and summary() will be useful for the following questions:\n",
    "# a. What is the age range for females? For males? Tip: use the which() function.\n",
    "\n",
    "# b. How many subjects reported their height in Metric units, how many in Imperial units, \n",
    "# and how many did not specify units?\n",
    "# (This is a good application for the summary() function.)\n",
    "\n",
    "# c. Find the statistical range (max and min) of Metric heights in the dataset. \n",
    "# Try using which() on the conditional.\n",
    "\n",
    "# d. What is the mean (average) age of right-handed people in the dataset?\n",
    "\n",
    "# e. Find the gender of the youngest person in the dataset (use 2 lines of code)\n",
    "\n",
    "# f. Find the handedness of the tallest person in the dataset that reported their \n",
    "# height in Imperial units. Look out for NAs--use which()."
   ]
  }
 ],
 "metadata": {
  "kernelspec": {
   "display_name": "R",
   "language": "R",
   "name": "ir"
  },
  "language_info": {
   "codemirror_mode": "r",
   "file_extension": ".r",
   "mimetype": "text/x-r-source",
   "name": "R",
   "pygments_lexer": "r",
   "version": "3.4.3"
  }
 },
 "nbformat": 4,
 "nbformat_minor": 2
}
