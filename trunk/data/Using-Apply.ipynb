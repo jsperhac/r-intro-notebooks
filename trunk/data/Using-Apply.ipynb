{
 "cells": [
  {
   "cell_type": "markdown",
   "metadata": {},
   "source": [
    "# Fun with the apply() family of functions"
   ]
  },
  {
   "cell_type": "markdown",
   "metadata": {},
   "source": [
    "The apply() family are challenging to think about but extremely powerful. These functions allow us to use the full vector power of R to operate on subgroups of data frames, in a single line of code."
   ]
  },
  {
   "cell_type": "markdown",
   "metadata": {},
   "source": [
    "Some references may help you to think about these functions:\n",
    "\n",
    "https://nsaunders.wordpress.com/2010/08/20/a-brief-introduction-to-apply-in-r/\n",
    "\n",
    "https://www.datacamp.com/community/tutorials/r-tutorial-apply-family/"
   ]
  },
  {
   "cell_type": "markdown",
   "metadata": {},
   "source": [
    "Let's assemble the simple student survey dataset for some extremely basic examples:"
   ]
  },
  {
   "cell_type": "code",
   "execution_count": 13,
   "metadata": {},
   "outputs": [],
   "source": [
    "height = c(68, 75, 60)        # inches\n",
    "weight = c(120,160,118)        # pounds\n",
    "age = c(16, 17, 16)        # years\n",
    "handed = c('L', 'R', 'R')     # dominant hand: R=right, L=left\n",
    "\n",
    "# Here's our data frame:\n",
    "data = data.frame(Height=height, \n",
    "                  Weight=weight,\n",
    "                  Age=age, \n",
    "                  Hand=handed)"
   ]
  },
  {
   "cell_type": "code",
   "execution_count": 14,
   "metadata": {},
   "outputs": [
    {
     "name": "stdout",
     "output_type": "stream",
     "text": [
      "  Height Weight Age Hand\n",
      "1     68    120  16    L\n",
      "2     75    160  17    R\n",
      "3     60    118  16    R\n"
     ]
    }
   ],
   "source": [
    "print(data)"
   ]
  },
  {
   "cell_type": "markdown",
   "metadata": {},
   "source": [
    "### Use tapply() to operate on subgroups in the dataframe \n",
    "\n",
    "First argument: column(s) to operate on\n",
    "\n",
    "Second argument: column to group on\n",
    "\n",
    "Third argument: function to apply"
   ]
  },
  {
   "cell_type": "markdown",
   "metadata": {},
   "source": [
    "What does R do here? First, group all samples in the dataset by their *Hand* value, then compute the *mean* of each group's *Height*."
   ]
  },
  {
   "cell_type": "code",
   "execution_count": 20,
   "metadata": {},
   "outputs": [
    {
     "name": "stdout",
     "output_type": "stream",
     "text": [
      "   L    R \n",
      "68.0 67.5 \n"
     ]
    }
   ],
   "source": [
    "means = tapply(data$Height, data$Hand, mean)\n",
    "print(means)"
   ]
  },
  {
   "cell_type": "markdown",
   "metadata": {},
   "source": [
    "### Use by() to operate on subgroups in the dataframe \n",
    "\n",
    "First argument: column to operate on\n",
    "\n",
    "Second argument: column to group on\n",
    "\n",
    "Third argument: function to apply"
   ]
  },
  {
   "cell_type": "code",
   "execution_count": 21,
   "metadata": {
    "scrolled": true
   },
   "outputs": [
    {
     "data": {
      "text/plain": [
       "data$Age: 16\n",
       "Height Weight \n",
       "    64    119 \n",
       "------------------------------------------------------------ \n",
       "data$Age: 17\n",
       "Height Weight \n",
       "    75    160 "
      ]
     },
     "metadata": {},
     "output_type": "display_data"
    }
   ],
   "source": [
    "by(data[,c(\"Height\",\"Weight\")], data$Age, colMeans)"
   ]
  },
  {
   "cell_type": "markdown",
   "metadata": {},
   "source": [
    "### Use sapply()"
   ]
  },
  {
   "cell_type": "code",
   "execution_count": 26,
   "metadata": {},
   "outputs": [
    {
     "data": {
      "text/html": [
       "<ol class=list-inline>\n",
       "\t<li>67.6666666666667</li>\n",
       "\t<li>132.666666666667</li>\n",
       "\t<li>16.3333333333333</li>\n",
       "</ol>\n"
      ],
      "text/latex": [
       "\\begin{enumerate*}\n",
       "\\item 67.6666666666667\n",
       "\\item 132.666666666667\n",
       "\\item 16.3333333333333\n",
       "\\end{enumerate*}\n"
      ],
      "text/markdown": [
       "1. 67.6666666666667\n",
       "2. 132.666666666667\n",
       "3. 16.3333333333333\n",
       "\n",
       "\n"
      ],
      "text/plain": [
       "[1]  67.66667 132.66667  16.33333"
      ]
     },
     "metadata": {},
     "output_type": "display_data"
    }
   ],
   "source": [
    "columns = list(data$Height, data$Weight, data$Age)\n",
    "sapply(columns, mean)"
   ]
  },
  {
   "cell_type": "markdown",
   "metadata": {},
   "source": [
    "Hopefully that makes the idea clear. Can you think of some examples on the iris or diamonds datasets?"
   ]
  },
  {
   "cell_type": "code",
   "execution_count": 30,
   "metadata": {
    "scrolled": true
   },
   "outputs": [
    {
     "data": {
      "text/plain": [
       "diamonds$cut: Fair\n",
       "[1] 4358.758\n",
       "------------------------------------------------------------ \n",
       "diamonds$cut: Good\n",
       "[1] 3928.864\n",
       "------------------------------------------------------------ \n",
       "diamonds$cut: Very Good\n",
       "[1] 3981.76\n",
       "------------------------------------------------------------ \n",
       "diamonds$cut: Premium\n",
       "[1] 4584.258\n",
       "------------------------------------------------------------ \n",
       "diamonds$cut: Ideal\n",
       "[1] 3457.542"
      ]
     },
     "metadata": {},
     "output_type": "display_data"
    }
   ],
   "source": [
    "# For example: mean diamond price by diamond cut\n",
    "library(ggplot2)\n",
    "by(diamonds[,\"price\"],diamonds$cut, colMeans)"
   ]
  },
  {
   "cell_type": "code",
   "execution_count": null,
   "metadata": {},
   "outputs": [],
   "source": []
  }
 ],
 "metadata": {
  "kernelspec": {
   "display_name": "R",
   "language": "R",
   "name": "ir"
  },
  "language_info": {
   "codemirror_mode": "r",
   "file_extension": ".r",
   "mimetype": "text/x-r-source",
   "name": "R",
   "pygments_lexer": "r",
   "version": "3.4.3"
  }
 },
 "nbformat": 4,
 "nbformat_minor": 2
}
