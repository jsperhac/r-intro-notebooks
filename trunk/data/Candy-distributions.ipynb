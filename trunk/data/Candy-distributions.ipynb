{
 "cells": [
  {
   "cell_type": "markdown",
   "metadata": {},
   "source": [
    "# Modeling, exploring, and plotting M&M color frequencies: II"
   ]
  },
  {
   "cell_type": "markdown",
   "metadata": {},
   "source": [
    "M&M candies are made in several different colors, and their abundances in each package can be dictated by statistics. "
   ]
  },
  {
   "cell_type": "markdown",
   "metadata": {},
   "source": [
    "## Sampling M&M colors from a distribution\n",
    "\n",
    "Suppose we sample M&M colors from some made-up distribution. Let's generate some counts of different colored MMs and put the data in an R data strucrure called a matrix.\n",
    "\n",
    "If we turn on the simpleDist variable:\n",
    "* We leave it to R to fabricate these counts: for each, we take 10 randomly-sampled numbers between 0 and 6.\n",
    "\n",
    "Otherwise:\n",
    "* We weight the distributions a little bit.\n",
    "\n",
    "In either case, we want n observations, where each consists of a \"package\" of M&Ms whose colors have different abundances.\n",
    "\n",
    "Change the value of simpleDist (TRUE/FALSE) to change the distribution weighting."
   ]
  },
  {
   "cell_type": "code",
   "execution_count": 91,
   "metadata": {},
   "outputs": [],
   "source": [
    "# clear all variables in the workspace\n",
    "rm(list=ls())\n",
    "\n",
    "# Here, change the value of simpleDist (TRUE/FALSE) to change the distribution weighting.\n",
    "simpleDist=FALSE;\n",
    "\n",
    "# Number of observations\n",
    "n = 1000;\n",
    "\n",
    "if (simpleDist==TRUE) {\n",
    "  red <- sample(0:6, n, replace=TRUE)\n",
    "  blue <- sample(0:6, n, replace=TRUE)\n",
    "  green <- sample(0:6, n, replace=TRUE)\n",
    "  yellow <- sample(0:6, n, replace=TRUE)\n",
    "  orange <- sample(0:6, n, replace=TRUE)\n",
    "  brown <- sample(0:6, n, replace=TRUE)\n",
    "    \n",
    "} else {\n",
    "    \n",
    "  # or we can play with the distributions a bit...\n",
    "\n",
    "  probVec1 <- c(0.1, 0.15, 0.3, 0.25, 0.15, 0.05, 0.0); # opposite of brown; skewed low\n",
    "  red <- sample(0:6, n, prob=probVec1, replace=TRUE)\n",
    "  \n",
    "  probVec2 <- c(0.1, 0.15, 0.25, 0.25, 0.15, 0.05, 0.05); # skewed slightly low\n",
    "  blue <- sample(0:6, n, prob=probVec2, replace=TRUE)\n",
    "  \n",
    "  probVec3 <- c(0.05, 0.1, 0.2, 0.3, 0.2, 0.1, 0.05);\n",
    "  green <- sample(0:6, n, prob=probVec3, replace=TRUE)\n",
    "  \n",
    "  probVec4 <- c(0.05, 0.1, 0.2, 0.3, 0.2, 0.1, 0.05);\n",
    "  yellow <- sample(0:6, n, prob=probVec4, replace=TRUE)\n",
    "  \n",
    "  probVec5 <- c(0.05, 0.05, 0.15, 0.25, 0.3, 0.15, 0.05);\n",
    "  orange <- sample(0:6, n, prob=probVec5, replace=TRUE) #skewed slightly high\n",
    "  \n",
    "  probVec6 <- c(0.0, 0.05, 0.15, 0.25, 0.3, 0.15, 0.1); # skewed high\n",
    "  brown <- sample(0:6, n, prob=probVec6, replace=TRUE)\n",
    "}"
   ]
  },
  {
   "cell_type": "markdown",
   "metadata": {},
   "source": [
    "Now we put the observations into a matrix called 'mm', for easy handling:"
   ]
  },
  {
   "cell_type": "code",
   "execution_count": 92,
   "metadata": {},
   "outputs": [],
   "source": [
    "# names of the colors, to name the matrix columns:\n",
    "mmc = c(\"red\", \"blue\", \"green\", \"yellow\", \"orange\", \"brown\")     \n",
    "\n",
    "# create a matrix of observations, the better to plot them using boxplot()\n",
    "mm = matrix( data=c(red, blue, green, yellow, orange, brown), # use the data generated above \n",
    "             nrow=n,                      # create 10 rows\n",
    "             ncol=6,                      # create 6 columns\n",
    "             byrow=FALSE,                 # fill the matrix by column            \n",
    "             # associate the color names (as column names) with the matrix:\n",
    "             dimnames=list(c(1:n),mmc) ) # names of the dimensions: rows, then columns"
   ]
  },
  {
   "cell_type": "markdown",
   "metadata": {},
   "source": [
    "### Histograms of color frequency over all the MM samples"
   ]
  },
  {
   "cell_type": "markdown",
   "metadata": {},
   "source": [
    "Do the plots you see here depend upon the setting of the simpleDist variable above?"
   ]
  },
  {
   "cell_type": "code",
   "execution_count": 94,
   "metadata": {},
   "outputs": [
    {
     "data": {
      "image/png": "[encoded data removed]",
      "text/plain": [
       "Plot with title “ ”"
      ]
     },
     "metadata": {},
     "output_type": "display_data"
    }
   ],
   "source": [
    "# note: enforce the same range for all plots, for direct comparison\n",
    "\n",
    "# Stack the plots in a grid with two rows and three columns\n",
    "par(mfrow=c(2,3))\n",
    "\n",
    "# Loop over the columns of the mm matrix (the colors of the MMs)\n",
    "for (i in 1:6) {\n",
    "  \n",
    "  xLabel=paste(\"number of\", mmc[i], \"M&Ms in sample\")  # x label\n",
    "    \n",
    "  hist(mm[,i],                                         # data to plot\n",
    "       ylab=\"number of samples\",                       # y axis label\n",
    "       ylim=c(0,350),                                  # enforce same y axis limit for all plots\n",
    "       xlab=xLabel,                                    # display x label\n",
    "       main=\" \",                                       # suppress the title\n",
    "       col=c(mmc[i]),                                  # color of the histogram bars--constant per plot\n",
    "       breaks=c(-0.25:7.5),                            # location of the bins (as vector)\n",
    "       include.lowest=FALSE)                             \n",
    "} "
   ]
  },
  {
   "cell_type": "markdown",
   "metadata": {},
   "source": [
    "### Barplots of color abundances per sample\n",
    "\n",
    "Now let's look at (some) of the distributions, on a single plot:"
   ]
  },
  {
   "cell_type": "code",
   "execution_count": 95,
   "metadata": {},
   "outputs": [
    {
     "data": {
      "image/png": "[encoded data removed]",
      "text/plain": [
       "Plot with title “Sample # 9 : 19 M&Ms”"
      ]
     },
     "metadata": {},
     "output_type": "display_data"
    }
   ],
   "source": [
    "# put 3 columns, 3 rows of plots in one:\n",
    "par(mfrow=c(3,3))\n",
    "\n",
    "# make barplot for 9 samples:\n",
    "for (i in 1:9) {\n",
    "  barplot(mm[i,],                  # data to plot\n",
    "          ylim=c(0,max(mm)),       # enforce same y range for all plots\n",
    "          names.arg=mmc,           # names along the x axis\n",
    "          col=mmc,                 # colors for the bars\n",
    "          ylab=\"count\",            # y label\n",
    "          main=paste(\"Sample #\",i, \":\", sum(mm[i,]), \"M&Ms\"))  # main title\n",
    "}\n",
    "\n",
    "# restore default: one plot per page\n",
    "par(mfrow=c(1,1))"
   ]
  },
  {
   "cell_type": "markdown",
   "metadata": {},
   "source": [
    "## The mm matrix"
   ]
  },
  {
   "cell_type": "markdown",
   "metadata": {},
   "source": [
    "Remember that each observation in the mm matrix represents one package of M&Ms. Let's look at:\n",
    "\n",
    "* first 10 observations\n",
    "* 'mm' matrix structure\n",
    "* rownames\n",
    "* colnames "
   ]
  },
  {
   "cell_type": "code",
   "execution_count": 96,
   "metadata": {},
   "outputs": [
    {
     "data": {
      "text/html": [
       "<table>\n",
       "<thead><tr><th></th><th scope=col>red</th><th scope=col>blue</th><th scope=col>green</th><th scope=col>yellow</th><th scope=col>orange</th><th scope=col>brown</th></tr></thead>\n",
       "<tbody>\n",
       "\t<tr><th scope=row>1</th><td>3</td><td>2</td><td>2</td><td>3</td><td>5</td><td>1</td></tr>\n",
       "\t<tr><th scope=row>2</th><td>2</td><td>1</td><td>5</td><td>3</td><td>2</td><td>3</td></tr>\n",
       "\t<tr><th scope=row>3</th><td>2</td><td>0</td><td>3</td><td>4</td><td>4</td><td>3</td></tr>\n",
       "\t<tr><th scope=row>4</th><td>0</td><td>1</td><td>2</td><td>6</td><td>5</td><td>2</td></tr>\n",
       "\t<tr><th scope=row>5</th><td>3</td><td>4</td><td>1</td><td>4</td><td>4</td><td>3</td></tr>\n",
       "\t<tr><th scope=row>6</th><td>3</td><td>2</td><td>6</td><td>3</td><td>4</td><td>5</td></tr>\n",
       "\t<tr><th scope=row>7</th><td>0</td><td>3</td><td>5</td><td>3</td><td>4</td><td>4</td></tr>\n",
       "\t<tr><th scope=row>8</th><td>4</td><td>3</td><td>1</td><td>3</td><td>1</td><td>5</td></tr>\n",
       "\t<tr><th scope=row>9</th><td>5</td><td>2</td><td>0</td><td>4</td><td>3</td><td>5</td></tr>\n",
       "\t<tr><th scope=row>10</th><td>2</td><td>3</td><td>3</td><td>6</td><td>4</td><td>6</td></tr>\n",
       "</tbody>\n",
       "</table>\n"
      ],
      "text/latex": [
       "\\begin{tabular}{r|llllll}\n",
       "  & red & blue & green & yellow & orange & brown\\\\\n",
       "\\hline\n",
       "\t1 & 3 & 2 & 2 & 3 & 5 & 1\\\\\n",
       "\t2 & 2 & 1 & 5 & 3 & 2 & 3\\\\\n",
       "\t3 & 2 & 0 & 3 & 4 & 4 & 3\\\\\n",
       "\t4 & 0 & 1 & 2 & 6 & 5 & 2\\\\\n",
       "\t5 & 3 & 4 & 1 & 4 & 4 & 3\\\\\n",
       "\t6 & 3 & 2 & 6 & 3 & 4 & 5\\\\\n",
       "\t7 & 0 & 3 & 5 & 3 & 4 & 4\\\\\n",
       "\t8 & 4 & 3 & 1 & 3 & 1 & 5\\\\\n",
       "\t9 & 5 & 2 & 0 & 4 & 3 & 5\\\\\n",
       "\t10 & 2 & 3 & 3 & 6 & 4 & 6\\\\\n",
       "\\end{tabular}\n"
      ],
      "text/markdown": [
       "\n",
       "| <!--/--> | red | blue | green | yellow | orange | brown | \n",
       "|---|---|---|---|---|---|---|---|---|---|\n",
       "| 1 | 3 | 2 | 2 | 3 | 5 | 1 | \n",
       "| 2 | 2 | 1 | 5 | 3 | 2 | 3 | \n",
       "| 3 | 2 | 0 | 3 | 4 | 4 | 3 | \n",
       "| 4 | 0 | 1 | 2 | 6 | 5 | 2 | \n",
       "| 5 | 3 | 4 | 1 | 4 | 4 | 3 | \n",
       "| 6 | 3 | 2 | 6 | 3 | 4 | 5 | \n",
       "| 7 | 0 | 3 | 5 | 3 | 4 | 4 | \n",
       "| 8 | 4 | 3 | 1 | 3 | 1 | 5 | \n",
       "| 9 | 5 | 2 | 0 | 4 | 3 | 5 | \n",
       "| 10 | 2 | 3 | 3 | 6 | 4 | 6 | \n",
       "\n",
       "\n"
      ],
      "text/plain": [
       "   red blue green yellow orange brown\n",
       "1  3   2    2     3      5      1    \n",
       "2  2   1    5     3      2      3    \n",
       "3  2   0    3     4      4      3    \n",
       "4  0   1    2     6      5      2    \n",
       "5  3   4    1     4      4      3    \n",
       "6  3   2    6     3      4      5    \n",
       "7  0   3    5     3      4      4    \n",
       "8  4   3    1     3      1      5    \n",
       "9  5   2    0     4      3      5    \n",
       "10 2   3    3     6      4      6    "
      ]
     },
     "metadata": {},
     "output_type": "display_data"
    }
   ],
   "source": [
    "# print the first 10 rows of data (first 10 observations, or samples):\n",
    "mm[1:10,]"
   ]
  },
  {
   "cell_type": "code",
   "execution_count": 97,
   "metadata": {},
   "outputs": [
    {
     "name": "stdout",
     "output_type": "stream",
     "text": [
      " int [1:1000, 1:6] 3 2 2 0 3 3 0 4 5 2 ...\n",
      " - attr(*, \"dimnames\")=List of 2\n",
      "  ..$ : chr [1:1000] \"1\" \"2\" \"3\" \"4\" ...\n",
      "  ..$ : chr [1:6] \"red\" \"blue\" \"green\" \"yellow\" ...\n"
     ]
    }
   ],
   "source": [
    "# print the structure of the mm data object. We can see the 1000 rows (observations), with 6 colors for each one.\n",
    "str(mm)"
   ]
  },
  {
   "cell_type": "code",
   "execution_count": 98,
   "metadata": {},
   "outputs": [
    {
     "data": {
      "text/html": [
       "<ol class=list-inline>\n",
       "\t<li>'1'</li>\n",
       "\t<li>'2'</li>\n",
       "\t<li>'3'</li>\n",
       "\t<li>'4'</li>\n",
       "\t<li>'5'</li>\n",
       "\t<li>'6'</li>\n",
       "\t<li>'7'</li>\n",
       "\t<li>'8'</li>\n",
       "\t<li>'9'</li>\n",
       "\t<li>'10'</li>\n",
       "</ol>\n"
      ],
      "text/latex": [
       "\\begin{enumerate*}\n",
       "\\item '1'\n",
       "\\item '2'\n",
       "\\item '3'\n",
       "\\item '4'\n",
       "\\item '5'\n",
       "\\item '6'\n",
       "\\item '7'\n",
       "\\item '8'\n",
       "\\item '9'\n",
       "\\item '10'\n",
       "\\end{enumerate*}\n"
      ],
      "text/markdown": [
       "1. '1'\n",
       "2. '2'\n",
       "3. '3'\n",
       "4. '4'\n",
       "5. '5'\n",
       "6. '6'\n",
       "7. '7'\n",
       "8. '8'\n",
       "9. '9'\n",
       "10. '10'\n",
       "\n",
       "\n"
      ],
      "text/plain": [
       " [1] \"1\"  \"2\"  \"3\"  \"4\"  \"5\"  \"6\"  \"7\"  \"8\"  \"9\"  \"10\""
      ]
     },
     "metadata": {},
     "output_type": "display_data"
    }
   ],
   "source": [
    "# print the first 10 row names of the mm data object. These just label the observations:\n",
    "rownames(mm)[1:10]"
   ]
  },
  {
   "cell_type": "code",
   "execution_count": 99,
   "metadata": {},
   "outputs": [
    {
     "data": {
      "text/html": [
       "<ol class=list-inline>\n",
       "\t<li>'red'</li>\n",
       "\t<li>'blue'</li>\n",
       "\t<li>'green'</li>\n",
       "\t<li>'yellow'</li>\n",
       "\t<li>'orange'</li>\n",
       "\t<li>'brown'</li>\n",
       "</ol>\n"
      ],
      "text/latex": [
       "\\begin{enumerate*}\n",
       "\\item 'red'\n",
       "\\item 'blue'\n",
       "\\item 'green'\n",
       "\\item 'yellow'\n",
       "\\item 'orange'\n",
       "\\item 'brown'\n",
       "\\end{enumerate*}\n"
      ],
      "text/markdown": [
       "1. 'red'\n",
       "2. 'blue'\n",
       "3. 'green'\n",
       "4. 'yellow'\n",
       "5. 'orange'\n",
       "6. 'brown'\n",
       "\n",
       "\n"
      ],
      "text/plain": [
       "[1] \"red\"    \"blue\"   \"green\"  \"yellow\" \"orange\" \"brown\" "
      ]
     },
     "metadata": {},
     "output_type": "display_data"
    }
   ],
   "source": [
    "# print the column names of the mm data object. These are the color names:\n",
    "colnames(mm)"
   ]
  },
  {
   "cell_type": "markdown",
   "metadata": {},
   "source": [
    "## Descriptive statistics of the M&M data"
   ]
  },
  {
   "cell_type": "markdown",
   "metadata": {},
   "source": [
    "Now for a little descriptive statistics. We'll check:\n",
    "* count of each color in an average package\n",
    "* overall statistical summary\n",
    "* average count of MMs per package"
   ]
  },
  {
   "cell_type": "code",
   "execution_count": 100,
   "metadata": {},
   "outputs": [
    {
     "data": {
      "text/html": [
       "<dl class=dl-horizontal>\n",
       "\t<dt>red</dt>\n",
       "\t\t<dd>2.283</dd>\n",
       "\t<dt>blue</dt>\n",
       "\t\t<dd>2.496</dd>\n",
       "\t<dt>green</dt>\n",
       "\t\t<dd>3.035</dd>\n",
       "\t<dt>yellow</dt>\n",
       "\t\t<dd>3.052</dd>\n",
       "\t<dt>orange</dt>\n",
       "\t\t<dd>3.39</dd>\n",
       "\t<dt>brown</dt>\n",
       "\t\t<dd>3.698</dd>\n",
       "</dl>\n"
      ],
      "text/latex": [
       "\\begin{description*}\n",
       "\\item[red] 2.283\n",
       "\\item[blue] 2.496\n",
       "\\item[green] 3.035\n",
       "\\item[yellow] 3.052\n",
       "\\item[orange] 3.39\n",
       "\\item[brown] 3.698\n",
       "\\end{description*}\n"
      ],
      "text/markdown": [
       "red\n",
       ":   2.283blue\n",
       ":   2.496green\n",
       ":   3.035yellow\n",
       ":   3.052orange\n",
       ":   3.39brown\n",
       ":   3.698\n",
       "\n"
      ],
      "text/plain": [
       "   red   blue  green yellow orange  brown \n",
       " 2.283  2.496  3.035  3.052  3.390  3.698 "
      ]
     },
     "metadata": {},
     "output_type": "display_data"
    }
   ],
   "source": [
    "# How many of each MM in an average package? We want the mean by column:\n",
    "colMeans(mm)"
   ]
  },
  {
   "cell_type": "code",
   "execution_count": 101,
   "metadata": {
    "scrolled": true
   },
   "outputs": [
    {
     "data": {
      "text/plain": [
       "      red             blue           green           yellow          orange    \n",
       " Min.   :0.000   Min.   :0.000   Min.   :0.000   Min.   :0.000   Min.   :0.00  \n",
       " 1st Qu.:1.000   1st Qu.:1.000   1st Qu.:2.000   1st Qu.:2.000   1st Qu.:3.00  \n",
       " Median :2.000   Median :2.000   Median :3.000   Median :3.000   Median :4.00  \n",
       " Mean   :2.283   Mean   :2.496   Mean   :3.035   Mean   :3.052   Mean   :3.39  \n",
       " 3rd Qu.:3.000   3rd Qu.:3.000   3rd Qu.:4.000   3rd Qu.:4.000   3rd Qu.:4.00  \n",
       " Max.   :5.000   Max.   :6.000   Max.   :6.000   Max.   :6.000   Max.   :6.00  \n",
       "     brown      \n",
       " Min.   :1.000  \n",
       " 1st Qu.:3.000  \n",
       " Median :4.000  \n",
       " Mean   :3.698  \n",
       " 3rd Qu.:5.000  \n",
       " Max.   :6.000  "
      ]
     },
     "metadata": {},
     "output_type": "display_data"
    }
   ],
   "source": [
    "# Statistical summary of the whole dataset, by MM color:\n",
    "summary(mm)"
   ]
  },
  {
   "cell_type": "markdown",
   "metadata": {},
   "source": [
    "If there are other things you want to check about the matrix, try them!"
   ]
  },
  {
   "cell_type": "markdown",
   "metadata": {},
   "source": [
    "### MM counts per package"
   ]
  },
  {
   "cell_type": "markdown",
   "metadata": {},
   "source": [
    "Let's answer the question: How many MMs per package, on average? This is easy to do using the data structure."
   ]
  },
  {
   "cell_type": "code",
   "execution_count": 102,
   "metadata": {},
   "outputs": [],
   "source": [
    "# sum the count per package over all the rows\n",
    "rsums <- rowSums(mm)"
   ]
  },
  {
   "cell_type": "markdown",
   "metadata": {},
   "source": [
    "How many sums did we just take? Same number as the count of samples:"
   ]
  },
  {
   "cell_type": "code",
   "execution_count": 103,
   "metadata": {},
   "outputs": [
    {
     "data": {
      "text/html": [
       "1000"
      ],
      "text/latex": [
       "1000"
      ],
      "text/markdown": [
       "1000"
      ],
      "text/plain": [
       "[1] 1000"
      ]
     },
     "metadata": {},
     "output_type": "display_data"
    }
   ],
   "source": [
    "# How many rsums are there?\n",
    "length(rsums)"
   ]
  },
  {
   "cell_type": "markdown",
   "metadata": {},
   "source": [
    "Print the first 10 of these rowSums:"
   ]
  },
  {
   "cell_type": "code",
   "execution_count": 104,
   "metadata": {},
   "outputs": [
    {
     "data": {
      "text/html": [
       "<dl class=dl-horizontal>\n",
       "\t<dt>1</dt>\n",
       "\t\t<dd>16</dd>\n",
       "\t<dt>2</dt>\n",
       "\t\t<dd>16</dd>\n",
       "\t<dt>3</dt>\n",
       "\t\t<dd>16</dd>\n",
       "\t<dt>4</dt>\n",
       "\t\t<dd>16</dd>\n",
       "\t<dt>5</dt>\n",
       "\t\t<dd>19</dd>\n",
       "\t<dt>6</dt>\n",
       "\t\t<dd>23</dd>\n",
       "\t<dt>7</dt>\n",
       "\t\t<dd>19</dd>\n",
       "\t<dt>8</dt>\n",
       "\t\t<dd>17</dd>\n",
       "\t<dt>9</dt>\n",
       "\t\t<dd>19</dd>\n",
       "\t<dt>10</dt>\n",
       "\t\t<dd>24</dd>\n",
       "</dl>\n"
      ],
      "text/latex": [
       "\\begin{description*}\n",
       "\\item[1] 16\n",
       "\\item[2] 16\n",
       "\\item[3] 16\n",
       "\\item[4] 16\n",
       "\\item[5] 19\n",
       "\\item[6] 23\n",
       "\\item[7] 19\n",
       "\\item[8] 17\n",
       "\\item[9] 19\n",
       "\\item[10] 24\n",
       "\\end{description*}\n"
      ],
      "text/markdown": [
       "1\n",
       ":   162\n",
       ":   163\n",
       ":   164\n",
       ":   165\n",
       ":   196\n",
       ":   237\n",
       ":   198\n",
       ":   179\n",
       ":   1910\n",
       ":   24\n",
       "\n"
      ],
      "text/plain": [
       " 1  2  3  4  5  6  7  8  9 10 \n",
       "16 16 16 16 19 23 19 17 19 24 "
      ]
     },
     "metadata": {},
     "output_type": "display_data"
    }
   ],
   "source": [
    "# Print the first 10 of these rowSums. These are the counts of MMs in the first 10 \"packages\"\n",
    "rsums[1:10]"
   ]
  },
  {
   "cell_type": "markdown",
   "metadata": {},
   "source": [
    "Now, to answer the question, find the mean of the rowSums of mm:"
   ]
  },
  {
   "cell_type": "code",
   "execution_count": 105,
   "metadata": {},
   "outputs": [
    {
     "data": {
      "text/html": [
       "17.954"
      ],
      "text/latex": [
       "17.954"
      ],
      "text/markdown": [
       "17.954"
      ],
      "text/plain": [
       "[1] 17.954"
      ]
     },
     "metadata": {},
     "output_type": "display_data"
    }
   ],
   "source": [
    "mean(rsums)"
   ]
  },
  {
   "cell_type": "markdown",
   "metadata": {},
   "source": [
    "We can also look at the summary statistics on the summed rows. This is another way to find the count of candies in an average package."
   ]
  },
  {
   "cell_type": "code",
   "execution_count": 106,
   "metadata": {
    "scrolled": true
   },
   "outputs": [
    {
     "data": {
      "text/plain": [
       "   Min. 1st Qu.  Median    Mean 3rd Qu.    Max. \n",
       "   8.00   16.00   18.00   17.95   20.00   28.00 "
      ]
     },
     "metadata": {},
     "output_type": "display_data"
    }
   ],
   "source": [
    "summary(rsums)"
   ]
  },
  {
   "cell_type": "markdown",
   "metadata": {},
   "source": [
    "#### Boxplot"
   ]
  },
  {
   "cell_type": "markdown",
   "metadata": {},
   "source": [
    "A boxplot visualizes the summary statistics for the count of candies in a package:"
   ]
  },
  {
   "cell_type": "code",
   "execution_count": 107,
   "metadata": {},
   "outputs": [
    {
     "data": {
      "image/png": "[encoded data removed]",
      "text/plain": [
       "Plot with title “Candy counts per package, 1000 observations”"
      ]
     },
     "metadata": {},
     "output_type": "display_data"
    }
   ],
   "source": [
    "# reset the par() number of plots per window\n",
    "par(mfrow=c(1,1), pch=1)\n",
    "\n",
    "boxplot(rowSums(mm),\n",
    "    ylab=\"MM counts per package\",\n",
    "    col=\"blue\")\n",
    "title(paste(\"Candy counts per package,\",n,\"observations\"))"
   ]
  },
  {
   "cell_type": "markdown",
   "metadata": {},
   "source": [
    "Notice that some unlucky person got only 8 MMs in their package, whereas somebody else got 27! (This is not a great model for quality control purposes.)"
   ]
  },
  {
   "cell_type": "markdown",
   "metadata": {},
   "source": [
    "#### Scatterplot"
   ]
  },
  {
   "cell_type": "markdown",
   "metadata": {},
   "source": [
    "Now, let's use a scatterplot to illustrate the number of MMs per package. On this, we *overplot* the *average* number of MMs per package."
   ]
  },
  {
   "cell_type": "code",
   "execution_count": 108,
   "metadata": {},
   "outputs": [
    {
     "data": {
      "image/png": "[encoded data removed]",
      "text/plain": [
       "Plot with title “number of M&Ms in package, across dataset”"
      ]
     },
     "metadata": {},
     "output_type": "display_data"
    }
   ],
   "source": [
    "# scatterplot\n",
    "plot(rsums,\n",
    "     ylab=\"number of M&Ms in package\", \n",
    "     xlab=\"sample number\",\n",
    "     pch=20,\n",
    "     main=\"number of M&Ms in package, across dataset\",\n",
    "     ylim=c(0,max(rsums)+1))\n",
    "\n",
    "# overplot with the mean of rowSums\n",
    "mrsums <- mean(rsums)\n",
    "abline(h=c(rep(mrsums,n)),col=\"blue\")"
   ]
  },
  {
   "cell_type": "markdown",
   "metadata": {},
   "source": [
    "How many MMs of each color are there per package, on average?"
   ]
  },
  {
   "cell_type": "code",
   "execution_count": 109,
   "metadata": {},
   "outputs": [
    {
     "data": {
      "text/html": [
       "2.99233333333333"
      ],
      "text/latex": [
       "2.99233333333333"
      ],
      "text/markdown": [
       "2.99233333333333"
      ],
      "text/plain": [
       "[1] 2.992333"
      ]
     },
     "metadata": {},
     "output_type": "display_data"
    },
    {
     "data": {
      "text/html": [
       "3"
      ],
      "text/latex": [
       "3"
      ],
      "text/markdown": [
       "3"
      ],
      "text/plain": [
       "[1] 3"
      ]
     },
     "metadata": {},
     "output_type": "display_data"
    }
   ],
   "source": [
    "rmeans <- rowMeans(mm)\n",
    "mean(rmeans)\n",
    "\n",
    "# roughly, we mean:\n",
    "round(mean(rmeans))"
   ]
  },
  {
   "cell_type": "markdown",
   "metadata": {},
   "source": [
    "You can try some more manipulations with the MM data, or generate some yourself."
   ]
  }
 ],
 "metadata": {
  "kernelspec": {
   "display_name": "R",
   "language": "R",
   "name": "ir"
  },
  "language_info": {
   "codemirror_mode": "r",
   "file_extension": ".r",
   "mimetype": "text/x-r-source",
   "name": "R",
   "pygments_lexer": "r",
   "version": "3.4.3"
  }
 },
 "nbformat": 4,
 "nbformat_minor": 2
}
