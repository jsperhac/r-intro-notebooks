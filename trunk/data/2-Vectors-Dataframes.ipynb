{
 "cells": [
  {
   "cell_type": "markdown",
   "metadata": {},
   "source": [
    "# Interlude 2: Vectors and Data Frames"
   ]
  },
  {
   "cell_type": "markdown",
   "metadata": {},
   "source": [
    "### Useful background"
   ]
  },
  {
   "cell_type": "code",
   "execution_count": 1,
   "metadata": {},
   "outputs": [],
   "source": [
    "# There are several ways to extract data from a vector. Here is a summary showing both slicing and \n",
    "# extraction by conditionals (logic). Experiment with these operations to solve the problems below.\n",
    "# \n",
    "# length(x)     # how many elements?\n",
    "# x[2]          # return ith element; (i = 2)\n",
    "# x[-2]         # return all but ith element; (i = 2)  \n",
    "# x[1:5]        # return first k elements; (k = 5) \n",
    "# x[(length(x)-5+1):length(x)]    # return last k elements; (k = 5)\n",
    "# x[c(1,3,5)]                   # return specific elements; (First, 3rd and 5th)\n",
    "# x[x>3]                        # return all elements that are greater than some value (the value is 3) \n",
    "# x[ x< -2 | x > 2]             # return elements bigger than or less than some values (the value is 2) \n",
    "# which(x == max(x))            # return index that corresponds to the largest value"
   ]
  },
  {
   "cell_type": "markdown",
   "metadata": {},
   "source": [
    "## I. Accessing data in vectors"
   ]
  },
  {
   "cell_type": "code",
   "execution_count": 3,
   "metadata": {},
   "outputs": [],
   "source": [
    "# define the vector x by running the following line:\n",
    "x = c(313, 284, 311, 280, 322, 324, 302)\n",
    "\n",
    "# Use the class(), dim(), and str() functions to learn about the vector x. "
   ]
  },
  {
   "cell_type": "markdown",
   "metadata": {},
   "source": [
    "## II. Vectors and type"
   ]
  },
  {
   "cell_type": "code",
   "execution_count": 4,
   "metadata": {},
   "outputs": [],
   "source": [
    "# a. Create a variable w, a vector containing three character strings, such as:\n",
    "w = c(\"red\", \"orange\", \"green\")  \n",
    "\n",
    "# b. Create a variable y, a vector containing any three numeric values.\n",
    "\n",
    "# c. Create a vector x, containing the two vectors y and w.\n",
    "# Hint: use the c() function to make a vector of vectors.\t\n",
    "\n",
    "# d. What is the type of each vector: w, y, and x? Why does x have this type? \n",
    "# Hint: Use class() to find the types. "
   ]
  },
  {
   "cell_type": "markdown",
   "metadata": {},
   "source": [
    "## III. Survey and NA Data Frame exercise"
   ]
  },
  {
   "cell_type": "code",
   "execution_count": 6,
   "metadata": {},
   "outputs": [],
   "source": [
    "# 1. Import the excerpted survey data frame, s,  by running the following:\n",
    "library(MASS)\n",
    "s = data.frame(Gender=survey$Sex, \n",
    "              Hand=survey$W.Hnd, \n",
    "              Height=survey$Height, \n",
    "              HtUnit=survey$M.I, \n",
    "              Age=survey$Age)\n",
    "\n",
    "# Scroll through and explore the dataset. What does it contain?"
   ]
  },
  {
   "cell_type": "code",
   "execution_count": 7,
   "metadata": {},
   "outputs": [],
   "source": [
    "# 2. How many rows are in the data frame s?\n",
    "# \n",
    "# Hints: use the dim() function to find the data frame's dimensions,\n",
    "#   or use the summary() or View() function."
   ]
  },
  {
   "cell_type": "code",
   "execution_count": 8,
   "metadata": {},
   "outputs": [],
   "source": [
    "# 3. Columns of the data frame \n",
    "#\n",
    "# a. What columns are in the data frame s? What are their types?\n",
    "# Hint: Use summary() on the data frame s.\n",
    "\n",
    "# b. Are there NAs in the data frame s? In which columns? How many?"
   ]
  },
  {
   "cell_type": "code",
   "execution_count": 13,
   "metadata": {},
   "outputs": [
    {
     "data": {
      "text/html": [
       "<ol class=list-inline>\n",
       "\t<li>Female</li>\n",
       "\t<li>Male</li>\n",
       "\t<li>Male</li>\n",
       "\t<li>Male</li>\n",
       "\t<li>Male</li>\n",
       "\t<li>Female</li>\n",
       "\t<li>Male</li>\n",
       "\t<li>Female</li>\n",
       "\t<li>Male</li>\n",
       "\t<li>Male</li>\n",
       "</ol>\n"
      ],
      "text/latex": [
       "\\begin{enumerate*}\n",
       "\\item Female\n",
       "\\item Male\n",
       "\\item Male\n",
       "\\item Male\n",
       "\\item Male\n",
       "\\item Female\n",
       "\\item Male\n",
       "\\item Female\n",
       "\\item Male\n",
       "\\item Male\n",
       "\\end{enumerate*}\n"
      ],
      "text/markdown": [
       "1. Female\n",
       "2. Male\n",
       "3. Male\n",
       "4. Male\n",
       "5. Male\n",
       "6. Female\n",
       "7. Male\n",
       "8. Female\n",
       "9. Male\n",
       "10. Male\n",
       "\n",
       "\n"
      ],
      "text/plain": [
       " [1] Female Male   Male   Male   Male   Female Male   Female Male   Male  \n",
       "Levels: Female Male"
      ]
     },
     "metadata": {},
     "output_type": "display_data"
    },
    {
     "data": {
      "text/html": [
       "<ol class=list-inline>\n",
       "\t<li>Female</li>\n",
       "\t<li>Male</li>\n",
       "\t<li>Male</li>\n",
       "\t<li>Male</li>\n",
       "\t<li>Male</li>\n",
       "\t<li>Female</li>\n",
       "\t<li>Male</li>\n",
       "\t<li>Female</li>\n",
       "\t<li>Male</li>\n",
       "\t<li>Male</li>\n",
       "</ol>\n"
      ],
      "text/latex": [
       "\\begin{enumerate*}\n",
       "\\item Female\n",
       "\\item Male\n",
       "\\item Male\n",
       "\\item Male\n",
       "\\item Male\n",
       "\\item Female\n",
       "\\item Male\n",
       "\\item Female\n",
       "\\item Male\n",
       "\\item Male\n",
       "\\end{enumerate*}\n"
      ],
      "text/markdown": [
       "1. Female\n",
       "2. Male\n",
       "3. Male\n",
       "4. Male\n",
       "5. Male\n",
       "6. Female\n",
       "7. Male\n",
       "8. Female\n",
       "9. Male\n",
       "10. Male\n",
       "\n",
       "\n"
      ],
      "text/plain": [
       " [1] Female Male   Male   Male   Male   Female Male   Female Male   Male  \n",
       "Levels: Female Male"
      ]
     },
     "metadata": {},
     "output_type": "display_data"
    }
   ],
   "source": [
    "# 4. Accessing data in the data frame \n",
    "#\n",
    "# a. Run the function str() on the data frame s. What does it tell you?\n",
    "\n",
    "# b. Run the function head() on the data frame s. \n",
    "\n",
    "# c. Programmatically retrieve all Gender values from the data frame s. \n",
    "# (Write an expression in code that does this) Can you think of 3 different\n",
    "# ways to do this?\n",
    "\n",
    "# d. Confirm the following two ways to retrieve the first 10 Gender values from the data frame s:\n",
    "\n",
    "# Retrieve the Gender column (s$Gender), then index into it like an array:\n",
    "s$Gender[1:10]\n",
    "\n",
    "# Index into the rows 1:10, then the column \"Gender\": s[rows, column]\n",
    "s[1:10,\"Gender\"]\n",
    "\n",
    "# Use summary() for the following questions. Notice that it works on numeric or\n",
    "# categorical data:\n",
    "\n",
    "# e. Find the min and max ages in the dataset. Did any subjects not report an age?\n",
    "\n",
    "# f. Find the counts of females and males in the dataset. Did any subject not report a\n",
    "# gender? How many?\n",
    "\n",
    "# g. Find the counts of left and right-handedness in the dataset. Did any subjects not report a\n",
    "# handedness? How many?"
   ]
  },
  {
   "cell_type": "markdown",
   "metadata": {},
   "source": [
    "### Using which()"
   ]
  },
  {
   "cell_type": "code",
   "execution_count": 14,
   "metadata": {},
   "outputs": [],
   "source": [
    "# Use which() to help subset the data frame for the following questions:\n",
    "\n",
    "# h. Print out the rows describing all left-handed females in the dataset. How would you get \n",
    "# rid of NAs? Try using which().\n",
    "\n",
    "# i. How many males under age 18 in the dataset? List their heights, with units. Did any\n",
    "# not report a height? How many?"
   ]
  },
  {
   "cell_type": "markdown",
   "metadata": {},
   "source": [
    "### Subsets without NAs"
   ]
  },
  {
   "cell_type": "code",
   "execution_count": 15,
   "metadata": {},
   "outputs": [],
   "source": [
    "# Create a subset of the data frame that contains no NAs. In other words, we will create a new data frame that excludes \n",
    "# all rows that are incomplete (have NAs) for any of the measures \n",
    "# Gender, Hand, Height, and Age. \n",
    "\n",
    "# sg2 = na.omit(s)"
   ]
  },
  {
   "cell_type": "code",
   "execution_count": 16,
   "metadata": {},
   "outputs": [],
   "source": [
    "# Find the mean and range for Age, on both the original dataset and the new dataset. \n",
    "# Ensure you do not get NA for any answer (Hint: use na.rm=TRUE, or summary(), on the \n",
    "# original dataset)\n",
    "#\n",
    "# Do you see differences between the two sets of calculations? If so, why?"
   ]
  },
  {
   "cell_type": "code",
   "execution_count": null,
   "metadata": {},
   "outputs": [],
   "source": []
  }
 ],
 "metadata": {
  "kernelspec": {
   "display_name": "R",
   "language": "R",
   "name": "ir"
  },
  "language_info": {
   "codemirror_mode": "r",
   "file_extension": ".r",
   "mimetype": "text/x-r-source",
   "name": "R",
   "pygments_lexer": "r",
   "version": "3.4.3"
  }
 },
 "nbformat": 4,
 "nbformat_minor": 2
}
