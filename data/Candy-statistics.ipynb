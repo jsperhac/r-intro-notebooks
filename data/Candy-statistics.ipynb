{
 "cells": [
  {
   "cell_type": "markdown",
   "metadata": {},
   "source": [
    "# Modeling, exploring, and plotting M&M color frequencies: I"
   ]
  },
  {
   "cell_type": "markdown",
   "metadata": {},
   "source": [
    "Suppose we open a single package of M&Ms and determine the number of candies in each color. We can define a vector of labels for those colors, called 'mvl', and a vector of counts corresponding to each color, called 'mv':"
   ]
  },
  {
   "cell_type": "code",
   "execution_count": 1,
   "metadata": {},
   "outputs": [],
   "source": [
    "mvl=c(\"red\", \"blue\", \"green\", \"yellow\", \"orange\", \"brown\");\n",
    "mv =c( 4, 5, 3, 2, 1, 3)"
   ]
  },
  {
   "cell_type": "markdown",
   "metadata": {},
   "source": [
    "Next, we can associate the color names with the color counts and print out the result:"
   ]
  },
  {
   "cell_type": "code",
   "execution_count": 2,
   "metadata": {},
   "outputs": [
    {
     "data": {
      "text/html": [
       "<dl class=dl-horizontal>\n",
       "\t<dt>red</dt>\n",
       "\t\t<dd>4</dd>\n",
       "\t<dt>blue</dt>\n",
       "\t\t<dd>5</dd>\n",
       "\t<dt>green</dt>\n",
       "\t\t<dd>3</dd>\n",
       "\t<dt>yellow</dt>\n",
       "\t\t<dd>2</dd>\n",
       "\t<dt>orange</dt>\n",
       "\t\t<dd>1</dd>\n",
       "\t<dt>brown</dt>\n",
       "\t\t<dd>3</dd>\n",
       "</dl>\n"
      ],
      "text/latex": [
       "\\begin{description*}\n",
       "\\item[red] 4\n",
       "\\item[blue] 5\n",
       "\\item[green] 3\n",
       "\\item[yellow] 2\n",
       "\\item[orange] 1\n",
       "\\item[brown] 3\n",
       "\\end{description*}\n"
      ],
      "text/markdown": [
       "red\n",
       ":   4blue\n",
       ":   5green\n",
       ":   3yellow\n",
       ":   2orange\n",
       ":   1brown\n",
       ":   3\n",
       "\n"
      ],
      "text/plain": [
       "   red   blue  green yellow orange  brown \n",
       "     4      5      3      2      1      3 "
      ]
     },
     "metadata": {},
     "output_type": "display_data"
    }
   ],
   "source": [
    "names(mv) = mvl\n",
    "mv"
   ]
  },
  {
   "cell_type": "markdown",
   "metadata": {},
   "source": [
    "For a visual illustration of the candy color frequencies, we can make a barplot of this data structure. Barplots are handy for categorical (non-numeric) data like this."
   ]
  },
  {
   "cell_type": "code",
   "execution_count": 3,
   "metadata": {},
   "outputs": [
    {
     "data": {
      "image/png": "[encoded data removed]",
      "text/plain": [
       "Plot with title “M&Ms in example package”"
      ]
     },
     "metadata": {},
     "output_type": "display_data"
    }
   ],
   "source": [
    "# define a title for the plot\n",
    "ptitle = \"M&Ms in example package\";\n",
    "\n",
    "# use barplot() for categorical data, and label the axes:\n",
    "barplot(mv,                # data to plot\n",
    "        xlab=\"M&M color\",  # label for x axis\n",
    "        ylab=\"count\",      # label for y axis\n",
    "        main=ptitle,       # title for plot    \n",
    "        col=mvl)            # vector of colors for the plot bars"
   ]
  },
  {
   "cell_type": "markdown",
   "metadata": {},
   "source": [
    "## Descriptive statistics"
   ]
  },
  {
   "cell_type": "markdown",
   "metadata": {},
   "source": [
    "What else can we learn about this example package of M&Ms? We can generate some basic descriptive statistics on the package:\n",
    "* table of color freqencies\n",
    "* statistical summary (median, mean, quartiles, range)\n",
    "* total count"
   ]
  },
  {
   "cell_type": "code",
   "execution_count": 4,
   "metadata": {},
   "outputs": [
    {
     "data": {
      "text/plain": [
       "        mv\n",
       "mvl      1 2 3 4 5\n",
       "  blue   0 0 0 0 1\n",
       "  brown  0 0 1 0 0\n",
       "  green  0 0 1 0 0\n",
       "  orange 1 0 0 0 0\n",
       "  red    0 0 0 1 0\n",
       "  yellow 0 1 0 0 0"
      ]
     },
     "metadata": {},
     "output_type": "display_data"
    }
   ],
   "source": [
    "# Represent this package's M&M color count frequencies as a table:\n",
    "table(mvl, mv)"
   ]
  },
  {
   "cell_type": "code",
   "execution_count": 5,
   "metadata": {},
   "outputs": [
    {
     "data": {
      "text/plain": [
       "   Min. 1st Qu.  Median    Mean 3rd Qu.    Max. \n",
       "   1.00    2.25    3.00    3.00    3.75    5.00 "
      ]
     },
     "metadata": {},
     "output_type": "display_data"
    }
   ],
   "source": [
    "# Statistical summary of the color abundances in this package:\n",
    "summary(mv)"
   ]
  },
  {
   "cell_type": "code",
   "execution_count": 6,
   "metadata": {},
   "outputs": [
    {
     "data": {
      "text/html": [
       "<ol class=list-inline>\n",
       "\t<li>1</li>\n",
       "\t<li>5</li>\n",
       "</ol>\n"
      ],
      "text/latex": [
       "\\begin{enumerate*}\n",
       "\\item 1\n",
       "\\item 5\n",
       "\\end{enumerate*}\n"
      ],
      "text/markdown": [
       "1. 1\n",
       "2. 5\n",
       "\n",
       "\n"
      ],
      "text/plain": [
       "[1] 1 5"
      ]
     },
     "metadata": {},
     "output_type": "display_data"
    }
   ],
   "source": [
    "# Range (min and max) of color counts in this M&M package:\n",
    "range(mv)"
   ]
  },
  {
   "cell_type": "code",
   "execution_count": 7,
   "metadata": {},
   "outputs": [
    {
     "data": {
      "text/html": [
       "18"
      ],
      "text/latex": [
       "18"
      ],
      "text/markdown": [
       "18"
      ],
      "text/plain": [
       "[1] 18"
      ]
     },
     "metadata": {},
     "output_type": "display_data"
    }
   ],
   "source": [
    "# Total count of M&Ms in this package:\n",
    "sum(mv)"
   ]
  },
  {
   "cell_type": "markdown",
   "metadata": {},
   "source": [
    "## Experiment"
   ]
  },
  {
   "cell_type": "markdown",
   "metadata": {},
   "source": [
    "Try your hand at making a histogram or barplot of the M&M colors found in this package. Use the built-in R functions hist() and barplot()."
   ]
  },
  {
   "cell_type": "code",
   "execution_count": null,
   "metadata": {},
   "outputs": [],
   "source": []
  }
 ],
 "metadata": {
  "kernelspec": {
   "display_name": "R",
   "language": "R",
   "name": "ir"
  },
  "language_info": {
   "codemirror_mode": "r",
   "file_extension": ".r",
   "mimetype": "text/x-r-source",
   "name": "R",
   "pygments_lexer": "r",
   "version": "3.4.3"
  }
 },
 "nbformat": 4,
 "nbformat_minor": 2
}
