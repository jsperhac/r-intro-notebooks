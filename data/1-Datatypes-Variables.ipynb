{
 "cells": [
  {
   "cell_type": "markdown",
   "metadata": {},
   "source": [
    "# Interlude 1: Datatype/Variable exercises"
   ]
  },
  {
   "cell_type": "markdown",
   "metadata": {},
   "source": [
    "### 1. Defining variables"
   ]
  },
  {
   "cell_type": "code",
   "execution_count": 25,
   "metadata": {},
   "outputs": [],
   "source": [
    "# a. Run the following variable assignments in R, and print out the resulting values. \n",
    "\n",
    "r = exp(2)         # exponential function\n",
    "q = abs(3 - 7)     # Absolute value of (3-7)\n",
    "y = \"TRUE\"\n",
    "x = FALSE\n",
    "z = NA\n",
    "\n",
    "# b. Using R, find and print the class of each variable. What do you notice about variable y?\n",
    "\n",
    "# c. Using R, find and print the logical opposite of each variable. Again, what do you notice about variable y?"
   ]
  },
  {
   "cell_type": "markdown",
   "metadata": {},
   "source": [
    "### 2. Logical variables"
   ]
  },
  {
   "cell_type": "code",
   "execution_count": 18,
   "metadata": {},
   "outputs": [],
   "source": [
    "# Perform the following in R:\n",
    "\n",
    "# a. Define variable u as logical True, and v as logical False. Hint: these reserved words must be all capitals (case is important in R).\n",
    "\n",
    "# b. In R, determine whether u and v are both true.\n",
    "\n",
    "# c. In R, determine whether at least one of u OR v is true.\n",
    "\n",
    "# d. In R, find the opposite of v. "
   ]
  },
  {
   "cell_type": "markdown",
   "metadata": {},
   "source": [
    "### 3. Strings and concatenation"
   ]
  },
  {
   "cell_type": "code",
   "execution_count": 19,
   "metadata": {},
   "outputs": [],
   "source": [
    "# a. Assign your first and last names to R two separate R variables.\n",
    "\n",
    "# b. Use the function paste() to assign the result to a new variable. If you need to look up how to use paste, run a search (e.g. 'R paste') to bring up the help page.\n",
    "\n",
    "# c. Print the new variable. Print its type (use the function class())."
   ]
  },
  {
   "cell_type": "markdown",
   "metadata": {},
   "source": [
    "### 4. A temperature conversion"
   ]
  },
  {
   "cell_type": "code",
   "execution_count": 20,
   "metadata": {},
   "outputs": [],
   "source": [
    "# Calculate the Fahrenheit temperatures that correspond to 20 to 25 degrees Celcius, \n",
    "# using the steps below.\n",
    "\n",
    "celsius = c(20:25)\t# sets a vector variable to contain the integers 20 through 25\n",
    "\n",
    "# a. Complete the assignment for the fahrenheit variable. For the formula, refer to: \n",
    "# http://www.metric-conversions.org/temperature/celsius-to-fahrenheit.htm\n",
    "# fahrenheit =\n",
    "\n",
    "# b. Uncomment this line and run it to create a data frame containing the temperature conversion:\n",
    "# conversion = data.frame(Celsius=celsius, Fahrenheit=fahrenheit)\n",
    "\n",
    "# c. Print the temperature conversion.\n",
    "\n",
    "# You should see:\n",
    "#   Celsius Fahrenheit\n",
    "# 1      20       68.0\n",
    "# 2      21       69.8\n",
    "# 3      22       71.6\n",
    "# 4      23       73.4\n",
    "# 5      24       75.2\n",
    "# 6      25       77.0\n",
    "\n",
    "# Did you do the conversion correctly?\n",
    "\n",
    "# d. Find and print the class of each variable.\n",
    "\n",
    "# e. Find and print the structure of each variable. Use the functions str() and dim(). Find and look at the help pages for these functions.\n",
    "\n",
    "# From what you learned about the functions str() and dim():\n",
    "# - What do you think is going on with the celsius and fahrenheit variables?\n",
    "# - What about the conversion variable? \n"
   ]
  },
  {
   "cell_type": "code",
   "execution_count": null,
   "metadata": {},
   "outputs": [],
   "source": []
  }
 ],
 "metadata": {
  "kernelspec": {
   "display_name": "R",
   "language": "R",
   "name": "ir"
  },
  "language_info": {
   "codemirror_mode": "r",
   "file_extension": ".r",
   "mimetype": "text/x-r-source",
   "name": "R",
   "pygments_lexer": "r",
   "version": "3.4.3"
  }
 },
 "nbformat": 4,
 "nbformat_minor": 2
}
