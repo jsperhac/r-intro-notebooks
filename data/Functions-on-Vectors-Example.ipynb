{
 "cells": [
  {
   "cell_type": "markdown",
   "metadata": {
    "slideshow": {
     "slide_type": "fragment"
    }
   },
   "source": [
    "# Functions and vectors"
   ]
  },
  {
   "cell_type": "markdown",
   "metadata": {},
   "source": [
    "We define a function to do temperature conversion. What datatypes can we pass it?"
   ]
  },
  {
   "cell_type": "code",
   "execution_count": 26,
   "metadata": {},
   "outputs": [],
   "source": [
    "ToFahrenheit <- function(celsius) {\n",
    "  f = (9/5) * celsius + 32; \n",
    "  return(f); \n",
    "}"
   ]
  },
  {
   "cell_type": "markdown",
   "metadata": {},
   "source": [
    "Certainly we can call this function with a single argument:"
   ]
  },
  {
   "cell_type": "code",
   "execution_count": 27,
   "metadata": {},
   "outputs": [
    {
     "name": "stdout",
     "output_type": "stream",
     "text": [
      "[1] 122\n"
     ]
    }
   ],
   "source": [
    "print(ToFahrenheit(50))"
   ]
  },
  {
   "cell_type": "markdown",
   "metadata": {},
   "source": [
    "Supposing we want to convert a vector of numbers."
   ]
  },
  {
   "cell_type": "code",
   "execution_count": 28,
   "metadata": {},
   "outputs": [],
   "source": [
    "cels = c(-10, 0, 10, 18, 25)"
   ]
  },
  {
   "cell_type": "markdown",
   "metadata": {
    "slideshow": {
     "slide_type": "slide"
    }
   },
   "source": [
    "Must we write a loop? It's simple to do:"
   ]
  },
  {
   "cell_type": "code",
   "execution_count": 29,
   "metadata": {},
   "outputs": [
    {
     "name": "stdout",
     "output_type": "stream",
     "text": [
      "[1] \"14 F is  -10 C\"\n",
      "[1] \"32 F is  0 C\"\n",
      "[1] \"50 F is  10 C\"\n",
      "[1] \"64.4 F is  18 C\"\n",
      "[1] \"77 F is  25 C\"\n"
     ]
    }
   ],
   "source": [
    "for (cval in cels) {\n",
    "  fval = ToFahrenheit(cval)\n",
    "  print(paste(fval,'F is ',cval,'C'))\n",
    "}"
   ]
  },
  {
   "cell_type": "markdown",
   "metadata": {},
   "source": [
    "But: in R, we can pass the whole vector to the function:"
   ]
  },
  {
   "cell_type": "code",
   "execution_count": 15,
   "metadata": {},
   "outputs": [
    {
     "name": "stdout",
     "output_type": "stream",
     "text": [
      "[1] \"14 F is -10 C\"  \"32 F is 0 C\"    \"50 F is 10 C\"   \"64.4 F is 18 C\"\n",
      "[5] \"77 F is 25 C\"  \n"
     ]
    }
   ],
   "source": [
    "fahr = ToFahrenheit(cels)\n",
    "print(paste(fahr,'F is',cels,'C'))"
   ]
  },
  {
   "cell_type": "markdown",
   "metadata": {},
   "source": [
    "Here is why: These simple, native R arithmetic operations are already vectorized (behind the scenes they are running C optimized for taking in a vector), and thus they will readily take a vector argument.\n"
   ]
  },
  {
   "cell_type": "code",
   "execution_count": 16,
   "metadata": {},
   "outputs": [
    {
     "name": "stdout",
     "output_type": "stream",
     "text": [
      "[1] 14.0 32.0 50.0 64.4 77.0\n"
     ]
    }
   ],
   "source": [
    "print(cels*9/5 + 32)"
   ]
  },
  {
   "cell_type": "markdown",
   "metadata": {},
   "source": [
    "Notice that we don't even need by() or apply(). Those special R functions let us vectorize operations on data frames, which are whole assemblies of vectors. A vector by itself is easy to do the calculation on.\n",
    "\n",
    "If you insist, you can use *lapply()*, which is like apply() used on all items of a *list*:"
   ]
  },
  {
   "cell_type": "code",
   "execution_count": 38,
   "metadata": {},
   "outputs": [
    {
     "name": "stdout",
     "output_type": "stream",
     "text": [
      "[[1]]\n",
      "[1] 14\n",
      "\n",
      "[[2]]\n",
      "[1] 32\n",
      "\n",
      "[[3]]\n",
      "[1] 50\n",
      "\n",
      "[[4]]\n",
      "[1] 64.4\n",
      "\n",
      "[[5]]\n",
      "[1] 77\n",
      "\n"
     ]
    }
   ],
   "source": [
    "print(lapply(cels,ToFahrenheit))"
   ]
  },
  {
   "cell_type": "markdown",
   "metadata": {},
   "source": [
    "Remember, R is a vector-oriented language! If you think you need a loop, think carefully. You may be able to replace it."
   ]
  }
 ],
 "metadata": {
  "kernelspec": {
   "display_name": "R",
   "language": "R",
   "name": "ir"
  },
  "language_info": {
   "codemirror_mode": "r",
   "file_extension": ".r",
   "mimetype": "text/x-r-source",
   "name": "R",
   "pygments_lexer": "r",
   "version": "3.4.3"
  }
 },
 "nbformat": 4,
 "nbformat_minor": 2
}
