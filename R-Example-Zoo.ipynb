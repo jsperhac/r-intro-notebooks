{
 "cells": [
  {
   "cell_type": "markdown",
   "metadata": {},
   "source": [
    "# R Examples and Exercises\n",
    "\n",
    "The three sections outlined here provide some examples and background information, exercises, and references for further reading. Each of the links below creates a new Jupyter notebook with example R code to play with.\n",
    "\n",
    "[I. Starting out in R](#1-start)\n",
    "\n",
    "[II. Descriptive statistics and Functions](#2-stats-functions)\n",
    "\n",
    "[III. Visualization and Plotting](#3-viz)\n",
    "\n"
   ]
  },
  {
   "cell_type": "markdown",
   "metadata": {},
   "source": [
    "<a name=\"1-start\"></a>\n",
    "## I. Starting out in R\n",
    "\n"
   ]
  },
  {
   "cell_type": "markdown",
   "metadata": {},
   "source": [
    "### Examples\n",
    "\n",
    "Some [R Tips](data/R-Tips.ipynb)\n",
    "\n",
    "#### Candy statistics\n",
    "\n",
    "Here we model and explore M&M color frequencies using data structures, descriptive statistics, and some plotting:\n",
    "\n",
    "- [Simple Pack of M&Ms](data/Candy-statistics.ipynb) Suppose we open a single package of M&Ms and determine the number of candies in each color, using R. \n",
    "- [M&M Color Distributions](data/Candy-distributions.ipynb) Create some color distributions and play with the results."
   ]
  },
  {
   "cell_type": "markdown",
   "metadata": {},
   "source": [
    "### R Exercises\n",
    "Exercises for this material:\n",
    "1. [Variables and Datatypes](data/1-Datatypes-Variables.ipynb)\n",
    "2. [Vectors and Dataframes](data/2-Vectors-Dataframes.ipynb)"
   ]
  },
  {
   "cell_type": "markdown",
   "metadata": {},
   "source": [
    "### References\n",
    "Further reading on these topics:\n",
    "- [R's Data Structures](https://jamesmccaffrey.wordpress.com/2016/05/02/r-language-vectors-vs-arrays-vs-lists-vs-matrices-vs-data-frames/)\n",
    "- [The Vocabulary of R](http://adv-r.had.co.nz/Vocabulary.html)\n",
    "- [Data Frames](http://dzchilds.github.io/aps-data-analysis-L1/data-frames.html)\n",
    "\n",
    "Some general introductory references:\n",
    "- [Jared Knowles' R tutorial](http://jaredknowles.com/s/Tutorial1_Intro.html)\n",
    "- [Programming in R](https://swcarpentry.github.io/r-novice-inflammation/)\n"
   ]
  },
  {
   "cell_type": "markdown",
   "metadata": {},
   "source": [
    "<a name=\"2-stats-functions\"></a>\n",
    "## II. Descriptive Statistics and Functions\n",
    "\n"
   ]
  },
  {
   "cell_type": "markdown",
   "metadata": {},
   "source": [
    "### Examples\n",
    "- [Calling functions on vectors](data/Functions-on-Vectors-Example.ipynb)\n",
    "- [Using the apply() family](data/Using-Apply.ipynb)"
   ]
  },
  {
   "cell_type": "markdown",
   "metadata": {},
   "source": [
    "### R Exercises\n",
    "\n",
    "3. [Descriptive Statistics](data/3-Descriptive-Statistics.ipynb)\n",
    "4. [Functions in R](data/4-Writing-Functions.ipynb)"
   ]
  },
  {
   "cell_type": "markdown",
   "metadata": {},
   "source": [
    "### References\n",
    "Further reading on these topics:\n",
    "\n",
    "Loops:\n",
    "- [Loops in R](https://swcarpentry.github.io/r-novice-inflammation/15-supp-loops-in-depth/)\n",
    "\n",
    "Functional Programming:\n",
    "- [Functional Programming and R](http://adv-r.had.co.nz/Functional-programming.html)\n",
    "- [More about Functional Programming](https://www.r-bloggers.com/functional-programming-in-r/)\n",
    "\n",
    "Hadley Wickham on vectorizing and optimizing code:\n",
    "- [Vectorizing Defined](http://adv-r.had.co.nz/Profiling.html#vectorise)\n",
    "- [Optimizing Code](http://adv-r.had.co.nz/Profiling.html)\n",
    "\n",
    "The apply() family:\n",
    "- [Using Apply](https://nsaunders.wordpress.com/2010/08/20/a-brief-introduction-to-apply-in-r/)\n",
    "- [Datacamp: Using Apply](https://www.datacamp.com/community/tutorials/r-tutorial-apply-family)\n"
   ]
  },
  {
   "cell_type": "markdown",
   "metadata": {},
   "source": [
    "<a name=\"3-viz\"></a>\n",
    "## III. Data exploration with plots\n",
    "\n",
    "R really shines for data visualization. We'll focus here on some base plotting routines, then show off some fancier material.\n",
    "\n",
    "### Base R plotting\n",
    "\n",
    "An extravaganza of base R plotting functionality using the Cars93 dataset. Each plot type has its own Jupyter notebook:\n",
    "\n",
    "- [Barplots](data/Cars93-barplots.ipynb) for categorical or numeric datasets\n",
    "- [Box plots](data/Cars93-boxplots.ipynb) visualize descriptive statistics\n",
    "- [Histograms I](data/Cars93-histograms.ipynb) plot a distribution\n",
    "- [Histograms II](data/Cars93-binning-hist.ipynb) custom bins for histograms\n",
    "- [Pie charts](data/Cars93-piecharts.ipynb) show how variables are distributed over a dataset\n",
    "- [Scatter plots](data/Cars93-scatterplots.ipynb) dependence of one variable on another\n",
    "- [Plotting tricks](data/Plotting-finery.ipynb) for making fancy plots\n",
    "\n",
    "- [Linear model example](data/Linear-model-with-diamonds-data.ipynb)\n",
    "\n",
    "### ggplot2\n",
    "- [ggplot2 plot examples](data/ggplot2-diamonds-examples.ipynb) using the diamonds dataset\n",
    "\n"
   ]
  },
  {
   "cell_type": "markdown",
   "metadata": {},
   "source": [
    "#### Plotting GIS data\n",
    "\n",
    "ggplot2 interoperates beautifully with packages intended for handling graphical information systems (GIS) data. \n",
    "\n",
    "- [ggplot2 with GIS](data/GIS-demos-R.ipynb) "
   ]
  },
  {
   "cell_type": "markdown",
   "metadata": {},
   "source": [
    "### R Exercises\n",
    "\n",
    "These exercises use the base R plotting routines showcased in the extensive example set above.\n",
    "\n",
    "5. [Basic Plotting for Data Exploration](data/5-Basic-Plotting.ipynb)"
   ]
  }
 ],
 "metadata": {
  "kernelspec": {
   "display_name": "R",
   "language": "R",
   "name": "ir"
  },
  "language_info": {
   "codemirror_mode": "r",
   "file_extension": ".r",
   "mimetype": "text/x-r-source",
   "name": "R",
   "pygments_lexer": "r",
   "version": "3.4.3"
  }
 },
 "nbformat": 4,
 "nbformat_minor": 2
}
